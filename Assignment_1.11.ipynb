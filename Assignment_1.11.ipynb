{
 "cells": [
  {
   "cell_type": "code",
   "execution_count": null,
   "metadata": {},
   "outputs": [],
   "source": [
    "import numpy as np\n",
    "square = []\n",
    "room = []\n",
    "price = []\n",
    "homeList = []\n",
    "for x in range(1,11,1):\n",
    "    square.append(x*30)\n",
    "    room.append(x)\n",
    "    price.append(x*70000)\n",
    "homeList.append(square)\n",
    "homeList.append(room)\n",
    "homeList.append(price)\n",
    "print(homeList)\n",
    "homeArray = np.array(homeList)\n",
    "print(homeArray)\n",
    "homeArray = homeArray.T\n",
    "print(homeArray)\n",
    "print(homeArray.shape)\n",
    "#when we run the code, it displays (10,3). It means that we have an array with 10 elements and each one of these elements also\n",
    "#has three elements. This array has two dimension that created by 10 rows and 3 coloumns.\n"
   ]
  },
  {
   "cell_type": "code",
   "execution_count": 7,
   "metadata": {},
   "outputs": [
    {
     "name": "stdout",
     "output_type": "stream",
     "text": [
      "Please enter row number: 5\n",
      "Please enter coloumn number: 5\n",
      "[[1. 1. 1. 1. 1.]\n",
      " [1. 1. 1. 1. 1.]\n",
      " [1. 1. 1. 1. 1.]\n",
      " [1. 1. 1. 1. 1.]\n",
      " [1. 1. 1. 1. 1.]]\n",
      "[[0. 1. 0. 1. 0.]\n",
      " [1. 1. 1. 1. 1.]\n",
      " [0. 1. 0. 1. 0.]\n",
      " [1. 1. 1. 1. 1.]\n",
      " [0. 1. 0. 1. 0.]]\n"
     ]
    }
   ],
   "source": [
    "import numpy as np\n",
    "\n",
    "def oneToZero (originArray):\n",
    "    for x in range(0, originArray.shape[0]):\n",
    "        for y in range(0, originArray.shape[1]):\n",
    "            if(x%2 == 0) & (y%2 == 0):\n",
    "                originArray[x,y] = 0\n",
    "    return originArray\n",
    "\n",
    "row = int(input(\"Please enter row number: \"))\n",
    "coloumn = int(input(\"Please enter coloumn number: \"))\n",
    "arrayOrigin = np.empty((coloumn,row))\n",
    "for x in range(coloumn):\n",
    "    for y in range(row):\n",
    "        arrayOrigin[x][y] = 1\n",
    "print(arrayOrigin)\n",
    "print(oneToZero(arrayOrigin))"
   ]
  }
 ],
 "metadata": {
  "kernelspec": {
   "display_name": "Python 3",
   "language": "python",
   "name": "python3"
  },
  "language_info": {
   "codemirror_mode": {
    "name": "ipython",
    "version": 3
   },
   "file_extension": ".py",
   "mimetype": "text/x-python",
   "name": "python",
   "nbconvert_exporter": "python",
   "pygments_lexer": "ipython3",
   "version": "3.8.3"
  }
 },
 "nbformat": 4,
 "nbformat_minor": 4
}
