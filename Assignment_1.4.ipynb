{
 "cells": [
  {
   "cell_type": "code",
   "execution_count": 5,
   "metadata": {},
   "outputs": [
    {
     "name": "stdout",
     "output_type": "stream",
     "text": [
      "{1: 'Monday', 2: 'Tuesday', 3: 'Wednesday', 4: 'Thursday', 5: 'Friday', 6: 'Saturday', 7: 'Sunday'}\n",
      "Please enter the number of two days you want to delete in the dictionary: 13\n",
      "{2: 'Tuesday', 4: 'Thursday', 5: 'Friday', 6: 'Saturday', 7: 'Sunday'}\n"
     ]
    }
   ],
   "source": [
    "days = {1:'Monday',\n",
    "        2:'Tuesday',\n",
    "        3:'Wednesday',\n",
    "        4:'Thursday',\n",
    "        5:'Friday',\n",
    "        6:'Saturday',\n",
    "        7:'Sunday'}\n",
    "print(days)\n",
    "number = input(\"Please enter the number of two days you want to delete in the dictionary: \")\n",
    "days.pop((int(number[0])))\n",
    "days.pop((int(number[1])))\n",
    "print(days)\n"
   ]
  },
  {
   "cell_type": "code",
   "execution_count": 19,
   "metadata": {},
   "outputs": [
    {
     "name": "stdout",
     "output_type": "stream",
     "text": [
      "{'John': {'age': 25, 'gender': 'Male'}, 'Lisa': {'age': 28, 'gender': 'Female'}, 'Linda': {'age': 32, 'gender': 'Female', 'Children': {'Susan': {'age': 6, 'gender': 'Female'}}}, 'Michael': {'age': 41, 'gender': 'Male', 'Children': {'Karen': {'age': 'Female'}, 'Greg': {'age': 'Male'}}}}\n",
      "{'Karen': {'age': 'Female'}, 'Greg': {'age': 'Male'}}\n",
      "{'Susan': {'age': 6, 'gender': 'Female'}}\n"
     ]
    }
   ],
   "source": [
    "employees ={\"John\":{\n",
    "    \"age\":25,\"gender\":'Male'\n",
    "            },\n",
    "            \"Lisa\":{\n",
    "                \"age\":28,\"gender\":'Female'\n",
    "            },\n",
    "            \"Linda\":{\n",
    "                \"age\":32,\"gender\":'Female','Children':{\n",
    "                    'Susan':{\n",
    "                        \"age\":6,\"gender\":'Female'\n",
    "                    }\n",
    "                }\n",
    "            },\n",
    "            \"Michael\":{\n",
    "                \"age\":41,\"gender\":'Male','Children':{\n",
    "                    'Karen':{\n",
    "                        \"age\":12,\"age\":'Female'\n",
    "                    },\n",
    "                    'Greg':{\n",
    "                        \"age\":7,\"age\":'Male'\n",
    "                    }\n",
    "                }\n",
    "            }\n",
    "           }\n",
    "print(employees)\n",
    "print(employees['Michael']['Children'])\n",
    "print(employees['Linda']['Children'])"
   ]
  }
 ],
 "metadata": {
  "kernelspec": {
   "display_name": "Python 3",
   "language": "python",
   "name": "python3"
  },
  "language_info": {
   "codemirror_mode": {
    "name": "ipython",
    "version": 3
   },
   "file_extension": ".py",
   "mimetype": "text/x-python",
   "name": "python",
   "nbconvert_exporter": "python",
   "pygments_lexer": "ipython3",
   "version": "3.8.3"
  }
 },
 "nbformat": 4,
 "nbformat_minor": 4
}
