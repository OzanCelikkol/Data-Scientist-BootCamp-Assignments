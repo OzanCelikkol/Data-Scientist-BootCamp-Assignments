{
 "cells": [
  {
   "cell_type": "code",
   "execution_count": 3,
   "metadata": {},
   "outputs": [
    {
     "name": "stdout",
     "output_type": "stream",
     "text": [
      "2210.68\n",
      "\"When we buy bitcoin with 1000.00 USD at the beginning of the week, we would earn\n",
      " 1210.68 USD at the end of the week, with an average gain 12.0%.\"\n"
     ]
    }
   ],
   "source": [
    "capital = 1000\n",
    "dailyGrowth = 0.12\n",
    "period = 7\n",
    "finalGrowth = (1 + dailyGrowth) ** period\n",
    "result = capital * finalGrowth\n",
    "print(\"{:.2f}\".format(result))\n",
    "print('''\"When we buy bitcoin with {:.2f} USD at the beginning of the week, we would earn\\n {:.2f} USD at the end of the week, \\\n",
    "with an average gain {}%.\"'''.format(capital,(result-capital),(dailyGrowth*100)))"
   ]
  },
  {
   "cell_type": "code",
   "execution_count": 12,
   "metadata": {},
   "outputs": [
    {
     "name": "stdout",
     "output_type": "stream",
     "text": [
      "Please enter temperature in Fahrenheit: 26\n",
      "Temperature (C): -3.33 \n"
     ]
    }
   ],
   "source": [
    "temp = input(\"Please enter temperature in Fahrenheit: \")\n",
    "temp = int(temp)\n",
    "tempInCel = (5/9) * (temp - 32)\n",
    "print(\"Temperature (C): {:.2f} \".format(tempInCel))"
   ]
  },
  {
   "cell_type": "code",
   "execution_count": 16,
   "metadata": {},
   "outputs": [
    {
     "name": "stdout",
     "output_type": "stream",
     "text": [
      "Please enter a 3 digit number: 154\n",
      "\"The sum of the digits in the number is: 10\"\n"
     ]
    }
   ],
   "source": [
    "number = input(\"Please enter a 3 digit number: \")\n",
    "while len(number)!=3:\n",
    "    number = input(\"Please enter a 3 digit number: \")\n",
    "number100 = int(number[0])\n",
    "number10 = int(number[1])\n",
    "number1 = int(number[2])\n",
    "print('\"The sum of the digits in the number is: {}\"'.format(number100+number10+number1))"
   ]
  },
  {
   "cell_type": "code",
   "execution_count": 19,
   "metadata": {},
   "outputs": [
    {
     "name": "stdout",
     "output_type": "stream",
     "text": [
      "Please enter the one of right edge lenght the right triangle: 6\n",
      "Please enter the other right edge lenght the right triangle: 8\n",
      "\"The lenght of the hypotenuse is: 10.00\"\n"
     ]
    }
   ],
   "source": [
    "firstEdge = int(input(\"Please enter the one of right edge lenght the right triangle: \"))\n",
    "secondEdge = int(input(\"Please enter the other right edge lenght the right triangle: \"))\n",
    "hyp = (((firstEdge**2)+(secondEdge**2)) ** 0.5)\n",
    "print('\"The lenght of the hypotenuse is: {:.2f}\"'.format(hyp))"
   ]
  }
 ],
 "metadata": {
  "kernelspec": {
   "display_name": "Python 3",
   "language": "python",
   "name": "python3"
  },
  "language_info": {
   "codemirror_mode": {
    "name": "ipython",
    "version": 3
   },
   "file_extension": ".py",
   "mimetype": "text/x-python",
   "name": "python",
   "nbconvert_exporter": "python",
   "pygments_lexer": "ipython3",
   "version": "3.8.3"
  }
 },
 "nbformat": 4,
 "nbformat_minor": 4
}
