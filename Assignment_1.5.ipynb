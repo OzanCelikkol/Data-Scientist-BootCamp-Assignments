{
 "cells": [
  {
   "cell_type": "code",
   "execution_count": 6,
   "metadata": {},
   "outputs": [
    {
     "name": "stdout",
     "output_type": "stream",
     "text": [
      "('Monday', 'Tuesday', 'Wednesday', 'Thursday', 'Friday', 'Saturday', 'Sunday')\n",
      "{'apple', 'mango', 'orange'}\n",
      "{'cherry', 'apple', 'mango', 'peach'}\n",
      "{'cherry', 'peach'}\n",
      "{'apple', 'mango'}\n"
     ]
    }
   ],
   "source": [
    "daysOfWeek = ('Monday','Tuesday','Wednesday','Thursday','Friday','Saturday','Sunday')\n",
    "print(daysOfWeek)\n",
    "fruits = {'apple','mango','orange'}\n",
    "print(fruits)\n",
    "newFruits = {'cherry','peach','apple','mango'}\n",
    "print(newFruits)\n",
    "print(newFruits.difference(fruits))\n",
    "print(newFruits.intersection(fruits))"
   ]
  },
  {
   "cell_type": "code",
   "execution_count": null,
   "metadata": {},
   "outputs": [],
   "source": []
  }
 ],
 "metadata": {
  "kernelspec": {
   "display_name": "Python 3",
   "language": "python",
   "name": "python3"
  },
  "language_info": {
   "codemirror_mode": {
    "name": "ipython",
    "version": 3
   },
   "file_extension": ".py",
   "mimetype": "text/x-python",
   "name": "python",
   "nbconvert_exporter": "python",
   "pygments_lexer": "ipython3",
   "version": "3.8.3"
  }
 },
 "nbformat": 4,
 "nbformat_minor": 4
}
