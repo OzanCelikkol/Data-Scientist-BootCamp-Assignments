{
 "cells": [
  {
   "cell_type": "code",
   "execution_count": 20,
   "metadata": {},
   "outputs": [
    {
     "name": "stdout",
     "output_type": "stream",
     "text": [
      "Two variables are the different type-----> <class 'int'> <class 'str'>\n",
      "But these two variables have the same value-----> 1 1\n",
      "Two variables are the same type-----> <class 'int'> <class 'int'>\n",
      "And these two variables have the same value-----> 1 1\n"
     ]
    }
   ],
   "source": [
    "x = 1\n",
    "y = '1'\n",
    "if (type(x)==type(y)):\n",
    "    print(\"Two variables are the same type----->\",type(x),type(y))\n",
    "    if (x == int(y)):\n",
    "        print(\"And these two variables have the same value----->\",x,int(y))\n",
    "    elif (x != int(y)):\n",
    "        print(\"But these two variables have not the same value----->\",x,int(y))\n",
    "elif (type(x)!=type(y)):\n",
    "    print(\"Two variables are the different type----->\",type(x),type(y))\n",
    "    if (x == int(y)):\n",
    "        print(\"But these two variables have the same value----->\",x,int(y))\n",
    "    elif (x != int(y)):\n",
    "        print(\"And these two variables have not the same value----->\",x,int(y))\n",
    "y = int(y)\n",
    "if (type(x)==type(y)):\n",
    "    print(\"Two variables are the same type----->\",type(x),type(y))\n",
    "    if (x == int(y)):\n",
    "        print(\"And these two variables have the same value----->\",x,int(y))\n",
    "    elif (x != int(y)):\n",
    "        print(\"But these two variables have not the same value----->\",x,int(y))\n",
    "elif (type(x)!=type(y)):\n",
    "    print(\"Two variables are the different type----->\",type(x),type(y))\n",
    "    if (x == int(y)):\n",
    "        print(\"But these two variables have the same value----->\",x,int(y))\n",
    "    elif (x != int(y)):\n",
    "        print(\"And these two variables have not the same value----->\",x,int(y))"
   ]
  }
 ],
 "metadata": {
  "kernelspec": {
   "display_name": "Python 3",
   "language": "python",
   "name": "python3"
  },
  "language_info": {
   "codemirror_mode": {
    "name": "ipython",
    "version": 3
   },
   "file_extension": ".py",
   "mimetype": "text/x-python",
   "name": "python",
   "nbconvert_exporter": "python",
   "pygments_lexer": "ipython3",
   "version": "3.8.3"
  }
 },
 "nbformat": 4,
 "nbformat_minor": 4
}
