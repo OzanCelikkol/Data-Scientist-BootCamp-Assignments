{
 "cells": [
  {
   "cell_type": "code",
   "execution_count": 61,
   "metadata": {
    "scrolled": false
   },
   "outputs": [
    {
     "name": "stdout",
     "output_type": "stream",
     "text": [
      "[['No' 'Date(UTC)' 'Ref1' ... 'Magnitude' 'Source No 3'\n",
      "  'Source Description 3']\n",
      " ['0' '2018-10-14 15:08:32' '0' ... '4.0' '7' 'AFAD-DDA']\n",
      " ['0' '2018-10-10 09:08:24' '0' ... '4.1' '7' 'AFAD-DDA']\n",
      " ...\n",
      " ['4' '1900-01-27 02:30:00' '2' ... '4.8' '2' 'Ambraseys-Finkel 1987']\n",
      " ['3' '1900-01-24 03:00:00' '2' ... '5.2' '2' 'Ambraseys-Finkel 1987']\n",
      " ['2' '1900-01-18 15:30:00' '2' ... '4.4' '2' 'Ambraseys-Finkel 1987']]\n",
      "[['Ref1' 'Latitude' 'Longitude' 'Depth' 'Magnitude']\n",
      " ['0' '36.8578' '44.4161' '16.97' '4.0']\n",
      " ['0' '37.4341' '35.852' '7.02' '4.1']\n",
      " ['0' '37.6878' '37.4016' '10.27' '4.4']\n",
      " ['0' '37.2003' '30.4376' '78.07' '4.0']\n",
      " ['0' '35.6846' '26.7266' '42.77' '4.5']\n",
      " ['0' '36.4171' '28.6991' '14.86' '4.1']\n",
      " ['0' '36.0535' '31.2135' '36.68' '5.2']\n",
      " ['0' '37.1958' '30.6241' '50.33' '4.8']\n",
      " ['0' '36.9653' '27.7633' '6.93' '4.3']\n",
      " ['0' '38.893' '26.4483' '11.62' '4.2']\n",
      " ['0' '37.3773' '36.3855' '10.53' '4.8']\n",
      " ['0' '35.8861' '26.0695' '28.49' '4.9']\n",
      " ['0' '37.4635' '36.3113' '15.29' '4.3']\n",
      " ['0' '37.0201' '36.0845' '10.0' '4.1']\n",
      " ['0' '37.6546' '26.6698' '4.5' '4.5']\n",
      " ['0' '37.5318' '29.848000000000003' '17.58' '4.6']\n",
      " ['0' '39.0388' '44.1533' '7.52' '4.5']\n",
      " ['0' '38.357' '44.8686' '10.05' '4.1']\n",
      " ['0' '35.7018' '28.1495' '6.25' '4.1']]\n"
     ]
    },
    {
     "ename": "ValueError",
     "evalue": "invalid literal for int() with base 10: '4.0'",
     "output_type": "error",
     "traceback": [
      "\u001b[1;31m---------------------------------------------------------------------------\u001b[0m",
      "\u001b[1;31mValueError\u001b[0m                                Traceback (most recent call last)",
      "\u001b[1;32m<ipython-input-61-ebac9e755a7e>\u001b[0m in \u001b[0;36m<module>\u001b[1;34m\u001b[0m\n\u001b[0;32m     13\u001b[0m \u001b[0mprint\u001b[0m\u001b[1;33m(\u001b[0m\u001b[0mlist2\u001b[0m\u001b[1;33m)\u001b[0m\u001b[1;33m\u001b[0m\u001b[1;33m\u001b[0m\u001b[0m\n\u001b[0;32m     14\u001b[0m \u001b[1;32mfor\u001b[0m \u001b[0mx\u001b[0m \u001b[1;32min\u001b[0m \u001b[0mrange\u001b[0m\u001b[1;33m(\u001b[0m\u001b[0mlist2\u001b[0m\u001b[1;33m.\u001b[0m\u001b[0mshape\u001b[0m\u001b[1;33m[\u001b[0m\u001b[1;36m0\u001b[0m\u001b[1;33m]\u001b[0m\u001b[1;33m)\u001b[0m\u001b[1;33m:\u001b[0m\u001b[1;33m\u001b[0m\u001b[1;33m\u001b[0m\u001b[0m\n\u001b[1;32m---> 15\u001b[1;33m     \u001b[1;32mif\u001b[0m \u001b[1;33m(\u001b[0m\u001b[0mint\u001b[0m\u001b[1;33m(\u001b[0m\u001b[0mlist1\u001b[0m\u001b[1;33m[\u001b[0m\u001b[0mx\u001b[0m\u001b[1;33m+\u001b[0m\u001b[1;36m1\u001b[0m\u001b[1;33m]\u001b[0m\u001b[1;33m[\u001b[0m\u001b[1;36m11\u001b[0m\u001b[1;33m]\u001b[0m\u001b[1;33m)\u001b[0m \u001b[1;33m>=\u001b[0m \u001b[1;36m4.5\u001b[0m\u001b[1;33m)\u001b[0m\u001b[1;33m:\u001b[0m\u001b[1;33m\u001b[0m\u001b[1;33m\u001b[0m\u001b[0m\n\u001b[0m\u001b[0;32m     16\u001b[0m         \u001b[0mprint\u001b[0m\u001b[1;33m(\u001b[0m\u001b[1;34m\"The row number whose last value is greater than 4.5 is: {}\"\u001b[0m\u001b[1;33m.\u001b[0m\u001b[0mformat\u001b[0m\u001b[1;33m(\u001b[0m\u001b[0mx\u001b[0m\u001b[1;33m+\u001b[0m\u001b[1;36m1\u001b[0m\u001b[1;33m)\u001b[0m\u001b[1;33m)\u001b[0m\u001b[1;33m\u001b[0m\u001b[1;33m\u001b[0m\u001b[0m\n\u001b[0;32m     17\u001b[0m \u001b[0mlist2\u001b[0m\u001b[1;33m[\u001b[0m\u001b[1;36m1\u001b[0m\u001b[1;33m,\u001b[0m\u001b[1;36m0\u001b[0m\u001b[1;33m:\u001b[0m\u001b[1;33m]\u001b[0m \u001b[1;33m=\u001b[0m \u001b[1;36m1\u001b[0m\u001b[1;33m\u001b[0m\u001b[1;33m\u001b[0m\u001b[0m\n",
      "\u001b[1;31mValueError\u001b[0m: invalid literal for int() with base 10: '4.0'"
     ]
    }
   ],
   "source": [
    "import csv\n",
    "import numpy as np\n",
    "list1 = []\n",
    "with open(\"..\\..\\..\\Earthquakes.csv\",\"r\") as f:\n",
    "    csv_reader = csv.reader(f, quotechar=',', quoting=csv.QUOTE_MINIMAL)\n",
    "    line_count = 0\n",
    "\n",
    "    for row in csv_reader:\n",
    "        list1.append(row)\n",
    "list1 = np.array(list1)\n",
    "print(list1)\n",
    "list2 = np.array(list1[0:20,(2,4,5,6,11)])\n",
    "print(list2)\n",
    "for x in range(list2.shape[0]):\n",
    "    if (int(list1[x+1][11]) >= 4.5):\n",
    "        print(\"The row number whose last value is greater than 4.5 is: {}\".format(x+1))\n",
    "list2[1,0:] = 1\n",
    "print(list2)\n",
    "np.save(\"EarthQuakeFirst20\",list2)\n",
    "        "
   ]
  }
 ],
 "metadata": {
  "kernelspec": {
   "display_name": "Python 3",
   "language": "python",
   "name": "python3"
  },
  "language_info": {
   "codemirror_mode": {
    "name": "ipython",
    "version": 3
   },
   "file_extension": ".py",
   "mimetype": "text/x-python",
   "name": "python",
   "nbconvert_exporter": "python",
   "pygments_lexer": "ipython3",
   "version": "3.8.3"
  }
 },
 "nbformat": 4,
 "nbformat_minor": 4
}
