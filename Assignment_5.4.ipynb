{
 "cells": [
  {
   "cell_type": "markdown",
   "metadata": {},
   "source": [
    "# <font color=blue>Assignments for \"Data Exploration - Univariate Analysis\"</font>"
   ]
  },
  {
   "cell_type": "markdown",
   "metadata": {},
   "source": [
    "In this assignment, you will continue to study the data of the `US Education System` ([dataset](https://www.kaggle.com/spscientist/students-performance-in-exams/home)). In this dataset, there is a lot of data on an annual basis. You can reach the explanations of this data from Kaggle again.\n",
    "\n",
    "To complete this assignment, submit the Github link of the Jupyter notebook file containing solutions to the questions below. You can talk to your mentor on your head or ask Slack at office time.\n",
    "\n",
    "First of all, apply the most appropriate one of the techniques for completing the missing values in your previous lesson. In order to answer the following questions, you must overcome the missing data."
   ]
  },
  {
   "cell_type": "code",
   "execution_count": 1,
   "metadata": {},
   "outputs": [],
   "source": [
    "import numpy as np\n",
    "import pandas as pd\n",
    "import matplotlib.pyplot as plt\n",
    "import seaborn as sns\n",
    "import scipy as sci\n",
    "import warnings\n",
    "\n",
    "warnings.filterwarnings(\"ignore\")"
   ]
  },
  {
   "cell_type": "markdown",
   "metadata": {},
   "source": [
    "**(1)** Interpret the data by making univariate analysis and indicate the points you consider important."
   ]
  },
  {
   "cell_type": "markdown",
   "metadata": {},
   "source": [
    "***How many variables do we have?\n",
    "<Br>\n",
    "How many data points are there in the dataset?\n",
    "    <Br>\n",
    "Which variables are continuous and which are categorical?\n",
    "        <Br>\n",
    "Is there any missing data? If so, how much?\n",
    "            <Br>\n",
    "Does any of the variables have a known probability distribution (normal, Poisson, Gamma, etc.)?\n",
    "                <Br>\n",
    "What are the central tendencies of each of the variables?\n",
    "                    <Br>\n",
    "How many variances are there in each variable?***"
   ]
  },
  {
   "cell_type": "code",
   "execution_count": 2,
   "metadata": {},
   "outputs": [],
   "source": [
    "edu = pd.read_csv(r\"C:\\Users\\Kleerys\\Desktop\\Career\\1.1-Python\\1.1-DataSets\\StudentsPerformance.csv\")"
   ]
  },
  {
   "cell_type": "code",
   "execution_count": 3,
   "metadata": {},
   "outputs": [
    {
     "data": {
      "text/html": [
       "<div>\n",
       "<style scoped>\n",
       "    .dataframe tbody tr th:only-of-type {\n",
       "        vertical-align: middle;\n",
       "    }\n",
       "\n",
       "    .dataframe tbody tr th {\n",
       "        vertical-align: top;\n",
       "    }\n",
       "\n",
       "    .dataframe thead th {\n",
       "        text-align: right;\n",
       "    }\n",
       "</style>\n",
       "<table border=\"1\" class=\"dataframe\">\n",
       "  <thead>\n",
       "    <tr style=\"text-align: right;\">\n",
       "      <th></th>\n",
       "      <th>gender</th>\n",
       "      <th>race/ethnicity</th>\n",
       "      <th>parental level of education</th>\n",
       "      <th>lunch</th>\n",
       "      <th>test preparation course</th>\n",
       "      <th>math score</th>\n",
       "      <th>reading score</th>\n",
       "      <th>writing score</th>\n",
       "    </tr>\n",
       "  </thead>\n",
       "  <tbody>\n",
       "    <tr>\n",
       "      <th>0</th>\n",
       "      <td>female</td>\n",
       "      <td>group B</td>\n",
       "      <td>bachelor's degree</td>\n",
       "      <td>standard</td>\n",
       "      <td>none</td>\n",
       "      <td>72</td>\n",
       "      <td>72</td>\n",
       "      <td>74</td>\n",
       "    </tr>\n",
       "    <tr>\n",
       "      <th>1</th>\n",
       "      <td>female</td>\n",
       "      <td>group C</td>\n",
       "      <td>some college</td>\n",
       "      <td>standard</td>\n",
       "      <td>completed</td>\n",
       "      <td>69</td>\n",
       "      <td>90</td>\n",
       "      <td>88</td>\n",
       "    </tr>\n",
       "    <tr>\n",
       "      <th>2</th>\n",
       "      <td>female</td>\n",
       "      <td>group B</td>\n",
       "      <td>master's degree</td>\n",
       "      <td>standard</td>\n",
       "      <td>none</td>\n",
       "      <td>90</td>\n",
       "      <td>95</td>\n",
       "      <td>93</td>\n",
       "    </tr>\n",
       "    <tr>\n",
       "      <th>3</th>\n",
       "      <td>male</td>\n",
       "      <td>group A</td>\n",
       "      <td>associate's degree</td>\n",
       "      <td>free/reduced</td>\n",
       "      <td>none</td>\n",
       "      <td>47</td>\n",
       "      <td>57</td>\n",
       "      <td>44</td>\n",
       "    </tr>\n",
       "    <tr>\n",
       "      <th>4</th>\n",
       "      <td>male</td>\n",
       "      <td>group C</td>\n",
       "      <td>some college</td>\n",
       "      <td>standard</td>\n",
       "      <td>none</td>\n",
       "      <td>76</td>\n",
       "      <td>78</td>\n",
       "      <td>75</td>\n",
       "    </tr>\n",
       "  </tbody>\n",
       "</table>\n",
       "</div>"
      ],
      "text/plain": [
       "   gender race/ethnicity parental level of education         lunch  \\\n",
       "0  female        group B           bachelor's degree      standard   \n",
       "1  female        group C                some college      standard   \n",
       "2  female        group B             master's degree      standard   \n",
       "3    male        group A          associate's degree  free/reduced   \n",
       "4    male        group C                some college      standard   \n",
       "\n",
       "  test preparation course  math score  reading score  writing score  \n",
       "0                    none          72             72             74  \n",
       "1               completed          69             90             88  \n",
       "2                    none          90             95             93  \n",
       "3                    none          47             57             44  \n",
       "4                    none          76             78             75  "
      ]
     },
     "metadata": {},
     "output_type": "display_data"
    }
   ],
   "source": [
    "display(edu.head())"
   ]
  },
  {
   "cell_type": "code",
   "execution_count": 4,
   "metadata": {},
   "outputs": [
    {
     "name": "stdout",
     "output_type": "stream",
     "text": [
      "<class 'pandas.core.frame.DataFrame'>\n",
      "RangeIndex: 1000 entries, 0 to 999\n",
      "Data columns (total 8 columns):\n",
      " #   Column                       Non-Null Count  Dtype \n",
      "---  ------                       --------------  ----- \n",
      " 0   gender                       1000 non-null   object\n",
      " 1   race/ethnicity               1000 non-null   object\n",
      " 2   parental level of education  1000 non-null   object\n",
      " 3   lunch                        1000 non-null   object\n",
      " 4   test preparation course      1000 non-null   object\n",
      " 5   math score                   1000 non-null   int64 \n",
      " 6   reading score                1000 non-null   int64 \n",
      " 7   writing score                1000 non-null   int64 \n",
      "dtypes: int64(3), object(5)\n",
      "memory usage: 62.6+ KB\n",
      "None\n"
     ]
    }
   ],
   "source": [
    "print(edu.info())"
   ]
  },
  {
   "cell_type": "markdown",
   "metadata": {},
   "source": [
    "***Our dataset has only three integer features, to describe all features we need to convert them into any non-object type.***"
   ]
  },
  {
   "cell_type": "code",
   "execution_count": 5,
   "metadata": {},
   "outputs": [],
   "source": [
    "eduCopy = edu"
   ]
  },
  {
   "cell_type": "code",
   "execution_count": 6,
   "metadata": {},
   "outputs": [],
   "source": [
    "#changing gender\n",
    "edu.gender = pd.get_dummies(edu.gender, drop_first = True)"
   ]
  },
  {
   "cell_type": "code",
   "execution_count": 7,
   "metadata": {},
   "outputs": [
    {
     "data": {
      "text/html": [
       "<div>\n",
       "<style scoped>\n",
       "    .dataframe tbody tr th:only-of-type {\n",
       "        vertical-align: middle;\n",
       "    }\n",
       "\n",
       "    .dataframe tbody tr th {\n",
       "        vertical-align: top;\n",
       "    }\n",
       "\n",
       "    .dataframe thead th {\n",
       "        text-align: right;\n",
       "    }\n",
       "</style>\n",
       "<table border=\"1\" class=\"dataframe\">\n",
       "  <thead>\n",
       "    <tr style=\"text-align: right;\">\n",
       "      <th></th>\n",
       "      <th>gender</th>\n",
       "      <th>race/ethnicity</th>\n",
       "      <th>parental level of education</th>\n",
       "      <th>lunch</th>\n",
       "      <th>test preparation course</th>\n",
       "      <th>math score</th>\n",
       "      <th>reading score</th>\n",
       "      <th>writing score</th>\n",
       "    </tr>\n",
       "  </thead>\n",
       "  <tbody>\n",
       "    <tr>\n",
       "      <th>0</th>\n",
       "      <td>0</td>\n",
       "      <td>group B</td>\n",
       "      <td>bachelor's degree</td>\n",
       "      <td>standard</td>\n",
       "      <td>none</td>\n",
       "      <td>72</td>\n",
       "      <td>72</td>\n",
       "      <td>74</td>\n",
       "    </tr>\n",
       "    <tr>\n",
       "      <th>1</th>\n",
       "      <td>0</td>\n",
       "      <td>group C</td>\n",
       "      <td>some college</td>\n",
       "      <td>standard</td>\n",
       "      <td>completed</td>\n",
       "      <td>69</td>\n",
       "      <td>90</td>\n",
       "      <td>88</td>\n",
       "    </tr>\n",
       "    <tr>\n",
       "      <th>2</th>\n",
       "      <td>0</td>\n",
       "      <td>group B</td>\n",
       "      <td>master's degree</td>\n",
       "      <td>standard</td>\n",
       "      <td>none</td>\n",
       "      <td>90</td>\n",
       "      <td>95</td>\n",
       "      <td>93</td>\n",
       "    </tr>\n",
       "    <tr>\n",
       "      <th>3</th>\n",
       "      <td>1</td>\n",
       "      <td>group A</td>\n",
       "      <td>associate's degree</td>\n",
       "      <td>free/reduced</td>\n",
       "      <td>none</td>\n",
       "      <td>47</td>\n",
       "      <td>57</td>\n",
       "      <td>44</td>\n",
       "    </tr>\n",
       "    <tr>\n",
       "      <th>4</th>\n",
       "      <td>1</td>\n",
       "      <td>group C</td>\n",
       "      <td>some college</td>\n",
       "      <td>standard</td>\n",
       "      <td>none</td>\n",
       "      <td>76</td>\n",
       "      <td>78</td>\n",
       "      <td>75</td>\n",
       "    </tr>\n",
       "  </tbody>\n",
       "</table>\n",
       "</div>"
      ],
      "text/plain": [
       "   gender race/ethnicity parental level of education         lunch  \\\n",
       "0       0        group B           bachelor's degree      standard   \n",
       "1       0        group C                some college      standard   \n",
       "2       0        group B             master's degree      standard   \n",
       "3       1        group A          associate's degree  free/reduced   \n",
       "4       1        group C                some college      standard   \n",
       "\n",
       "  test preparation course  math score  reading score  writing score  \n",
       "0                    none          72             72             74  \n",
       "1               completed          69             90             88  \n",
       "2                    none          90             95             93  \n",
       "3                    none          47             57             44  \n",
       "4                    none          76             78             75  "
      ]
     },
     "execution_count": 7,
     "metadata": {},
     "output_type": "execute_result"
    }
   ],
   "source": [
    "edu.head()"
   ]
  },
  {
   "cell_type": "code",
   "execution_count": 8,
   "metadata": {},
   "outputs": [
    {
     "data": {
      "image/png": "[encoded data removed]",
      "text/plain": [
       "<Figure size 1080x720 with 2 Axes>"
      ]
     },
     "metadata": {
      "needs_background": "light"
     },
     "output_type": "display_data"
    }
   ],
   "source": [
    "plt.figure(figsize = (15,10))\n",
    "sns.heatmap(edu.corr(), cmap = \"Blues\", annot = True)\n",
    "plt.show()"
   ]
  },
  {
   "cell_type": "code",
   "execution_count": 9,
   "metadata": {},
   "outputs": [
    {
     "data": {
      "text/plain": [
       "gender                         0\n",
       "race/ethnicity                 0\n",
       "parental level of education    0\n",
       "lunch                          0\n",
       "test preparation course        0\n",
       "math score                     0\n",
       "reading score                  0\n",
       "writing score                  0\n",
       "dtype: int64"
      ]
     },
     "execution_count": 9,
     "metadata": {},
     "output_type": "execute_result"
    }
   ],
   "source": [
    "edu.isnull().sum()"
   ]
  },
  {
   "cell_type": "code",
   "execution_count": 10,
   "metadata": {},
   "outputs": [
    {
     "data": {
      "image/png": "[encoded data removed]",
      "text/plain": [
       "<Figure size 1224x360 with 5 Axes>"
      ]
     },
     "metadata": {
      "needs_background": "light"
     },
     "output_type": "display_data"
    }
   ],
   "source": [
    "plt.figure(figsize = (17,5))\n",
    "plt.subplot(1, 5, 1)\n",
    "sns.countplot(edu[\"race/ethnicity\"])\n",
    "plt.xticks(rotation=90)\n",
    "plt.subplot(1, 5, 2)\n",
    "sns.countplot(edu[\"parental level of education\"])\n",
    "plt.xticks(rotation=90)\n",
    "plt.subplot(1, 5, 3)\n",
    "sns.countplot(edu[\"lunch\"])\n",
    "plt.xticks(rotation=90)\n",
    "plt.subplot(1, 5, 4)\n",
    "sns.countplot(edu[\"test preparation course\"])\n",
    "plt.xticks(rotation=90)\n",
    "plt.subplot(1, 5, 5)\n",
    "sns.countplot(edu[\"gender\"])\n",
    "plt.xticks(rotation=90)\n",
    "plt.show()"
   ]
  },
  {
   "cell_type": "markdown",
   "metadata": {},
   "source": [
    "**(2)** Consider a state (eg California) and plot the yearly change of total revenues and total spending. Do these two variables change by years? Do you have years of summit and bottom?"
   ]
  },
  {
   "cell_type": "code",
   "execution_count": 11,
   "metadata": {},
   "outputs": [],
   "source": [
    "states = pd.read_csv(r\"C:\\Users\\Kleerys\\Desktop\\Career\\1.1-Python\\1.1-DataSets\\states_all.csv\")"
   ]
  },
  {
   "cell_type": "code",
   "execution_count": 12,
   "metadata": {},
   "outputs": [
    {
     "data": {
      "text/html": [
       "<div>\n",
       "<style scoped>\n",
       "    .dataframe tbody tr th:only-of-type {\n",
       "        vertical-align: middle;\n",
       "    }\n",
       "\n",
       "    .dataframe tbody tr th {\n",
       "        vertical-align: top;\n",
       "    }\n",
       "\n",
       "    .dataframe thead th {\n",
       "        text-align: right;\n",
       "    }\n",
       "</style>\n",
       "<table border=\"1\" class=\"dataframe\">\n",
       "  <thead>\n",
       "    <tr style=\"text-align: right;\">\n",
       "      <th></th>\n",
       "      <th>PRIMARY_KEY</th>\n",
       "      <th>STATE</th>\n",
       "      <th>YEAR</th>\n",
       "      <th>ENROLL</th>\n",
       "      <th>TOTAL_REVENUE</th>\n",
       "      <th>FEDERAL_REVENUE</th>\n",
       "      <th>STATE_REVENUE</th>\n",
       "      <th>LOCAL_REVENUE</th>\n",
       "      <th>TOTAL_EXPENDITURE</th>\n",
       "      <th>INSTRUCTION_EXPENDITURE</th>\n",
       "      <th>...</th>\n",
       "      <th>GRADES_4_G</th>\n",
       "      <th>GRADES_8_G</th>\n",
       "      <th>GRADES_12_G</th>\n",
       "      <th>GRADES_1_8_G</th>\n",
       "      <th>GRADES_9_12_G</th>\n",
       "      <th>GRADES_ALL_G</th>\n",
       "      <th>AVG_MATH_4_SCORE</th>\n",
       "      <th>AVG_MATH_8_SCORE</th>\n",
       "      <th>AVG_READING_4_SCORE</th>\n",
       "      <th>AVG_READING_8_SCORE</th>\n",
       "    </tr>\n",
       "  </thead>\n",
       "  <tbody>\n",
       "    <tr>\n",
       "      <th>4</th>\n",
       "      <td>1992_CALIFORNIA</td>\n",
       "      <td>CALIFORNIA</td>\n",
       "      <td>1992</td>\n",
       "      <td>NaN</td>\n",
       "      <td>26260025.0</td>\n",
       "      <td>2072470.0</td>\n",
       "      <td>16546514.0</td>\n",
       "      <td>7641041.0</td>\n",
       "      <td>27138832.0</td>\n",
       "      <td>14358922.0</td>\n",
       "      <td>...</td>\n",
       "      <td>418418.0</td>\n",
       "      <td>363296.0</td>\n",
       "      <td>270675.0</td>\n",
       "      <td>NaN</td>\n",
       "      <td>NaN</td>\n",
       "      <td>5254844.0</td>\n",
       "      <td>208.0</td>\n",
       "      <td>261.0</td>\n",
       "      <td>202.0</td>\n",
       "      <td>NaN</td>\n",
       "    </tr>\n",
       "    <tr>\n",
       "      <th>55</th>\n",
       "      <td>1993_CALIFORNIA</td>\n",
       "      <td>CALIFORNIA</td>\n",
       "      <td>1993</td>\n",
       "      <td>5129788.0</td>\n",
       "      <td>28043338.0</td>\n",
       "      <td>2151157.0</td>\n",
       "      <td>17064146.0</td>\n",
       "      <td>8828035.0</td>\n",
       "      <td>28110986.0</td>\n",
       "      <td>15281147.0</td>\n",
       "      <td>...</td>\n",
       "      <td>420233.0</td>\n",
       "      <td>380223.0</td>\n",
       "      <td>277271.0</td>\n",
       "      <td>NaN</td>\n",
       "      <td>NaN</td>\n",
       "      <td>5327231.0</td>\n",
       "      <td>NaN</td>\n",
       "      <td>NaN</td>\n",
       "      <td>NaN</td>\n",
       "      <td>NaN</td>\n",
       "    </tr>\n",
       "    <tr>\n",
       "      <th>106</th>\n",
       "      <td>1994_CALIFORNIA</td>\n",
       "      <td>CALIFORNIA</td>\n",
       "      <td>1994</td>\n",
       "      <td>4120498.0</td>\n",
       "      <td>23440845.0</td>\n",
       "      <td>2095878.0</td>\n",
       "      <td>13175550.0</td>\n",
       "      <td>8169417.0</td>\n",
       "      <td>23012688.0</td>\n",
       "      <td>12443864.0</td>\n",
       "      <td>...</td>\n",
       "      <td>426919.0</td>\n",
       "      <td>388561.0</td>\n",
       "      <td>285132.0</td>\n",
       "      <td>NaN</td>\n",
       "      <td>NaN</td>\n",
       "      <td>5407475.0</td>\n",
       "      <td>NaN</td>\n",
       "      <td>NaN</td>\n",
       "      <td>197.0</td>\n",
       "      <td>NaN</td>\n",
       "    </tr>\n",
       "    <tr>\n",
       "      <th>157</th>\n",
       "      <td>1995_CALIFORNIA</td>\n",
       "      <td>CALIFORNIA</td>\n",
       "      <td>1995</td>\n",
       "      <td>5299405.0</td>\n",
       "      <td>29512214.0</td>\n",
       "      <td>2612241.0</td>\n",
       "      <td>15541486.0</td>\n",
       "      <td>11358487.0</td>\n",
       "      <td>30097549.0</td>\n",
       "      <td>16146416.0</td>\n",
       "      <td>...</td>\n",
       "      <td>428553.0</td>\n",
       "      <td>399039.0</td>\n",
       "      <td>287428.0</td>\n",
       "      <td>NaN</td>\n",
       "      <td>NaN</td>\n",
       "      <td>5536406.0</td>\n",
       "      <td>NaN</td>\n",
       "      <td>NaN</td>\n",
       "      <td>NaN</td>\n",
       "      <td>NaN</td>\n",
       "    </tr>\n",
       "    <tr>\n",
       "      <th>208</th>\n",
       "      <td>1996_CALIFORNIA</td>\n",
       "      <td>CALIFORNIA</td>\n",
       "      <td>1996</td>\n",
       "      <td>5460484.0</td>\n",
       "      <td>31282981.0</td>\n",
       "      <td>2603882.0</td>\n",
       "      <td>17061474.0</td>\n",
       "      <td>11617625.0</td>\n",
       "      <td>31561692.0</td>\n",
       "      <td>16880730.0</td>\n",
       "      <td>...</td>\n",
       "      <td>435217.0</td>\n",
       "      <td>406456.0</td>\n",
       "      <td>298669.0</td>\n",
       "      <td>NaN</td>\n",
       "      <td>NaN</td>\n",
       "      <td>5686198.0</td>\n",
       "      <td>NaN</td>\n",
       "      <td>NaN</td>\n",
       "      <td>NaN</td>\n",
       "      <td>NaN</td>\n",
       "    </tr>\n",
       "  </tbody>\n",
       "</table>\n",
       "<p>5 rows × 25 columns</p>\n",
       "</div>"
      ],
      "text/plain": [
       "         PRIMARY_KEY       STATE  YEAR     ENROLL  TOTAL_REVENUE  \\\n",
       "4    1992_CALIFORNIA  CALIFORNIA  1992        NaN     26260025.0   \n",
       "55   1993_CALIFORNIA  CALIFORNIA  1993  5129788.0     28043338.0   \n",
       "106  1994_CALIFORNIA  CALIFORNIA  1994  4120498.0     23440845.0   \n",
       "157  1995_CALIFORNIA  CALIFORNIA  1995  5299405.0     29512214.0   \n",
       "208  1996_CALIFORNIA  CALIFORNIA  1996  5460484.0     31282981.0   \n",
       "\n",
       "     FEDERAL_REVENUE  STATE_REVENUE  LOCAL_REVENUE  TOTAL_EXPENDITURE  \\\n",
       "4          2072470.0     16546514.0      7641041.0         27138832.0   \n",
       "55         2151157.0     17064146.0      8828035.0         28110986.0   \n",
       "106        2095878.0     13175550.0      8169417.0         23012688.0   \n",
       "157        2612241.0     15541486.0     11358487.0         30097549.0   \n",
       "208        2603882.0     17061474.0     11617625.0         31561692.0   \n",
       "\n",
       "     INSTRUCTION_EXPENDITURE  ...  GRADES_4_G  GRADES_8_G  GRADES_12_G  \\\n",
       "4                 14358922.0  ...    418418.0    363296.0     270675.0   \n",
       "55                15281147.0  ...    420233.0    380223.0     277271.0   \n",
       "106               12443864.0  ...    426919.0    388561.0     285132.0   \n",
       "157               16146416.0  ...    428553.0    399039.0     287428.0   \n",
       "208               16880730.0  ...    435217.0    406456.0     298669.0   \n",
       "\n",
       "     GRADES_1_8_G  GRADES_9_12_G  GRADES_ALL_G  AVG_MATH_4_SCORE  \\\n",
       "4             NaN            NaN     5254844.0             208.0   \n",
       "55            NaN            NaN     5327231.0               NaN   \n",
       "106           NaN            NaN     5407475.0               NaN   \n",
       "157           NaN            NaN     5536406.0               NaN   \n",
       "208           NaN            NaN     5686198.0               NaN   \n",
       "\n",
       "     AVG_MATH_8_SCORE  AVG_READING_4_SCORE  AVG_READING_8_SCORE  \n",
       "4               261.0                202.0                  NaN  \n",
       "55                NaN                  NaN                  NaN  \n",
       "106               NaN                197.0                  NaN  \n",
       "157               NaN                  NaN                  NaN  \n",
       "208               NaN                  NaN                  NaN  \n",
       "\n",
       "[5 rows x 25 columns]"
      ]
     },
     "execution_count": 12,
     "metadata": {},
     "output_type": "execute_result"
    }
   ],
   "source": [
    "statesCal = states[states[\"STATE\"] == \"CALIFORNIA\"]\n",
    "statesCal.head()"
   ]
  },
  {
   "cell_type": "code",
   "execution_count": 13,
   "metadata": {},
   "outputs": [
    {
     "data": {
      "image/png": "[encoded data removed]",
      "text/plain": [
       "<Figure size 1080x720 with 1 Axes>"
      ]
     },
     "metadata": {
      "needs_background": "light"
     },
     "output_type": "display_data"
    }
   ],
   "source": [
    "plt.figure(figsize = (15,10))\n",
    "sns.lineplot(data = statesCal, x = \"YEAR\", y = \"TOTAL_REVENUE\")\n",
    "sns.lineplot(data = statesCal, x = \"YEAR\", y = \"TOTAL_EXPENDITURE\")\n",
    "plt.ylabel(\"Spending\", fontsize = 15)\n",
    "plt.xlabel(\"Year\", fontsize = 15)\n",
    "plt.legend([\"TOTAL REVENUE\", \"TOTAL EXPENDITURE\"])\n",
    "plt.show()"
   ]
  },
  {
   "cell_type": "markdown",
   "metadata": {},
   "source": [
    "***These two features has summit in the same year and it is 2017. Also their lowest points are in the same year and it's 1993.***"
   ]
  },
  {
   "cell_type": "markdown",
   "metadata": {},
   "source": [
    "**(3)** In which course are students more successful in your chosen state? Mathematics or reading?"
   ]
  },
  {
   "cell_type": "code",
   "execution_count": 18,
   "metadata": {},
   "outputs": [],
   "source": [
    "statesCal[\"AVG_MATH_4_SCORE\"] = statesCal[\"AVG_MATH_4_SCORE\"].sort_values()\n",
    "statesCal[\"AVG_MATH_8_SCORE\"] = statesCal[\"AVG_MATH_8_SCORE\"].sort_values()\n",
    "statesCal[\"AVG_READING_4_SCORE\"] = statesCal[\"AVG_READING_4_SCORE\"].sort_values()\n",
    "statesCal[\"AVG_READING_8_SCORE\"] = statesCal[\"AVG_READING_8_SCORE\"].sort_values()"
   ]
  },
  {
   "cell_type": "code",
   "execution_count": 19,
   "metadata": {},
   "outputs": [
    {
     "data": {
      "text/html": [
       "<div>\n",
       "<style scoped>\n",
       "    .dataframe tbody tr th:only-of-type {\n",
       "        vertical-align: middle;\n",
       "    }\n",
       "\n",
       "    .dataframe tbody tr th {\n",
       "        vertical-align: top;\n",
       "    }\n",
       "\n",
       "    .dataframe thead th {\n",
       "        text-align: right;\n",
       "    }\n",
       "</style>\n",
       "<table border=\"1\" class=\"dataframe\">\n",
       "  <thead>\n",
       "    <tr style=\"text-align: right;\">\n",
       "      <th></th>\n",
       "      <th>PRIMARY_KEY</th>\n",
       "      <th>STATE</th>\n",
       "      <th>YEAR</th>\n",
       "      <th>ENROLL</th>\n",
       "      <th>TOTAL_REVENUE</th>\n",
       "      <th>FEDERAL_REVENUE</th>\n",
       "      <th>STATE_REVENUE</th>\n",
       "      <th>LOCAL_REVENUE</th>\n",
       "      <th>TOTAL_EXPENDITURE</th>\n",
       "      <th>INSTRUCTION_EXPENDITURE</th>\n",
       "      <th>...</th>\n",
       "      <th>GRADES_4_G</th>\n",
       "      <th>GRADES_8_G</th>\n",
       "      <th>GRADES_12_G</th>\n",
       "      <th>GRADES_1_8_G</th>\n",
       "      <th>GRADES_9_12_G</th>\n",
       "      <th>GRADES_ALL_G</th>\n",
       "      <th>AVG_MATH_4_SCORE</th>\n",
       "      <th>AVG_MATH_8_SCORE</th>\n",
       "      <th>AVG_READING_4_SCORE</th>\n",
       "      <th>AVG_READING_8_SCORE</th>\n",
       "    </tr>\n",
       "  </thead>\n",
       "  <tbody>\n",
       "    <tr>\n",
       "      <th>4</th>\n",
       "      <td>1992_CALIFORNIA</td>\n",
       "      <td>CALIFORNIA</td>\n",
       "      <td>1992</td>\n",
       "      <td>NaN</td>\n",
       "      <td>26260025.0</td>\n",
       "      <td>2072470.0</td>\n",
       "      <td>16546514.0</td>\n",
       "      <td>7641041.0</td>\n",
       "      <td>27138832.0</td>\n",
       "      <td>14358922.0</td>\n",
       "      <td>...</td>\n",
       "      <td>418418.0</td>\n",
       "      <td>363296.0</td>\n",
       "      <td>270675.0</td>\n",
       "      <td>NaN</td>\n",
       "      <td>NaN</td>\n",
       "      <td>5254844.0</td>\n",
       "      <td>208.0</td>\n",
       "      <td>261.0</td>\n",
       "      <td>202.0</td>\n",
       "      <td>NaN</td>\n",
       "    </tr>\n",
       "    <tr>\n",
       "      <th>55</th>\n",
       "      <td>1993_CALIFORNIA</td>\n",
       "      <td>CALIFORNIA</td>\n",
       "      <td>1993</td>\n",
       "      <td>5129788.0</td>\n",
       "      <td>28043338.0</td>\n",
       "      <td>2151157.0</td>\n",
       "      <td>17064146.0</td>\n",
       "      <td>8828035.0</td>\n",
       "      <td>28110986.0</td>\n",
       "      <td>15281147.0</td>\n",
       "      <td>...</td>\n",
       "      <td>420233.0</td>\n",
       "      <td>380223.0</td>\n",
       "      <td>277271.0</td>\n",
       "      <td>NaN</td>\n",
       "      <td>NaN</td>\n",
       "      <td>5327231.0</td>\n",
       "      <td>NaN</td>\n",
       "      <td>NaN</td>\n",
       "      <td>NaN</td>\n",
       "      <td>NaN</td>\n",
       "    </tr>\n",
       "    <tr>\n",
       "      <th>106</th>\n",
       "      <td>1994_CALIFORNIA</td>\n",
       "      <td>CALIFORNIA</td>\n",
       "      <td>1994</td>\n",
       "      <td>4120498.0</td>\n",
       "      <td>23440845.0</td>\n",
       "      <td>2095878.0</td>\n",
       "      <td>13175550.0</td>\n",
       "      <td>8169417.0</td>\n",
       "      <td>23012688.0</td>\n",
       "      <td>12443864.0</td>\n",
       "      <td>...</td>\n",
       "      <td>426919.0</td>\n",
       "      <td>388561.0</td>\n",
       "      <td>285132.0</td>\n",
       "      <td>NaN</td>\n",
       "      <td>NaN</td>\n",
       "      <td>5407475.0</td>\n",
       "      <td>NaN</td>\n",
       "      <td>NaN</td>\n",
       "      <td>197.0</td>\n",
       "      <td>NaN</td>\n",
       "    </tr>\n",
       "    <tr>\n",
       "      <th>157</th>\n",
       "      <td>1995_CALIFORNIA</td>\n",
       "      <td>CALIFORNIA</td>\n",
       "      <td>1995</td>\n",
       "      <td>5299405.0</td>\n",
       "      <td>29512214.0</td>\n",
       "      <td>2612241.0</td>\n",
       "      <td>15541486.0</td>\n",
       "      <td>11358487.0</td>\n",
       "      <td>30097549.0</td>\n",
       "      <td>16146416.0</td>\n",
       "      <td>...</td>\n",
       "      <td>428553.0</td>\n",
       "      <td>399039.0</td>\n",
       "      <td>287428.0</td>\n",
       "      <td>NaN</td>\n",
       "      <td>NaN</td>\n",
       "      <td>5536406.0</td>\n",
       "      <td>NaN</td>\n",
       "      <td>NaN</td>\n",
       "      <td>NaN</td>\n",
       "      <td>NaN</td>\n",
       "    </tr>\n",
       "    <tr>\n",
       "      <th>208</th>\n",
       "      <td>1996_CALIFORNIA</td>\n",
       "      <td>CALIFORNIA</td>\n",
       "      <td>1996</td>\n",
       "      <td>5460484.0</td>\n",
       "      <td>31282981.0</td>\n",
       "      <td>2603882.0</td>\n",
       "      <td>17061474.0</td>\n",
       "      <td>11617625.0</td>\n",
       "      <td>31561692.0</td>\n",
       "      <td>16880730.0</td>\n",
       "      <td>...</td>\n",
       "      <td>435217.0</td>\n",
       "      <td>406456.0</td>\n",
       "      <td>298669.0</td>\n",
       "      <td>NaN</td>\n",
       "      <td>NaN</td>\n",
       "      <td>5686198.0</td>\n",
       "      <td>NaN</td>\n",
       "      <td>NaN</td>\n",
       "      <td>NaN</td>\n",
       "      <td>NaN</td>\n",
       "    </tr>\n",
       "  </tbody>\n",
       "</table>\n",
       "<p>5 rows × 25 columns</p>\n",
       "</div>"
      ],
      "text/plain": [
       "         PRIMARY_KEY       STATE  YEAR     ENROLL  TOTAL_REVENUE  \\\n",
       "4    1992_CALIFORNIA  CALIFORNIA  1992        NaN     26260025.0   \n",
       "55   1993_CALIFORNIA  CALIFORNIA  1993  5129788.0     28043338.0   \n",
       "106  1994_CALIFORNIA  CALIFORNIA  1994  4120498.0     23440845.0   \n",
       "157  1995_CALIFORNIA  CALIFORNIA  1995  5299405.0     29512214.0   \n",
       "208  1996_CALIFORNIA  CALIFORNIA  1996  5460484.0     31282981.0   \n",
       "\n",
       "     FEDERAL_REVENUE  STATE_REVENUE  LOCAL_REVENUE  TOTAL_EXPENDITURE  \\\n",
       "4          2072470.0     16546514.0      7641041.0         27138832.0   \n",
       "55         2151157.0     17064146.0      8828035.0         28110986.0   \n",
       "106        2095878.0     13175550.0      8169417.0         23012688.0   \n",
       "157        2612241.0     15541486.0     11358487.0         30097549.0   \n",
       "208        2603882.0     17061474.0     11617625.0         31561692.0   \n",
       "\n",
       "     INSTRUCTION_EXPENDITURE  ...  GRADES_4_G  GRADES_8_G  GRADES_12_G  \\\n",
       "4                 14358922.0  ...    418418.0    363296.0     270675.0   \n",
       "55                15281147.0  ...    420233.0    380223.0     277271.0   \n",
       "106               12443864.0  ...    426919.0    388561.0     285132.0   \n",
       "157               16146416.0  ...    428553.0    399039.0     287428.0   \n",
       "208               16880730.0  ...    435217.0    406456.0     298669.0   \n",
       "\n",
       "     GRADES_1_8_G  GRADES_9_12_G  GRADES_ALL_G  AVG_MATH_4_SCORE  \\\n",
       "4             NaN            NaN     5254844.0             208.0   \n",
       "55            NaN            NaN     5327231.0               NaN   \n",
       "106           NaN            NaN     5407475.0               NaN   \n",
       "157           NaN            NaN     5536406.0               NaN   \n",
       "208           NaN            NaN     5686198.0               NaN   \n",
       "\n",
       "     AVG_MATH_8_SCORE  AVG_READING_4_SCORE  AVG_READING_8_SCORE  \n",
       "4               261.0                202.0                  NaN  \n",
       "55                NaN                  NaN                  NaN  \n",
       "106               NaN                197.0                  NaN  \n",
       "157               NaN                  NaN                  NaN  \n",
       "208               NaN                  NaN                  NaN  \n",
       "\n",
       "[5 rows x 25 columns]"
      ]
     },
     "execution_count": 19,
     "metadata": {},
     "output_type": "execute_result"
    }
   ],
   "source": [
    "statesCal.head()"
   ]
  },
  {
   "cell_type": "markdown",
   "metadata": {},
   "source": [
    "***In the state i choose, average math score slightly better than reading.***"
   ]
  },
  {
   "cell_type": "markdown",
   "metadata": {},
   "source": [
    "**(4)** What is the distribution of mathematics and reading grades?"
   ]
  },
  {
   "cell_type": "code",
   "execution_count": 21,
   "metadata": {},
   "outputs": [
    {
     "data": {
      "image/png": "[encoded data removed]",
      "text/plain": [
       "<Figure size 1080x720 with 2 Axes>"
      ]
     },
     "metadata": {
      "needs_background": "light"
     },
     "output_type": "display_data"
    }
   ],
   "source": [
    "plt.figure(figsize= (15,10))\n",
    "plt.subplot(1,2,1)\n",
    "sns.distplot(statesCal[\"AVG_MATH_4_SCORE\"])\n",
    "plt.subplot(1,2,2)\n",
    "sns.distplot(statesCal[\"AVG_READING_4_SCORE\"])\n",
    "plt.show()"
   ]
  },
  {
   "cell_type": "markdown",
   "metadata": {},
   "source": [
    "***They distributed somehow. I don't think there is a name for it.***"
   ]
  },
  {
   "cell_type": "markdown",
   "metadata": {},
   "source": [
    "**(5)** You may have noticed that there are many missing values in the mathematics and reading notes. Complete the missing values with mean, median, and interpolation. Compare the impact of these techniques on the distribution of grades."
   ]
  },
  {
   "cell_type": "code",
   "execution_count": 22,
   "metadata": {},
   "outputs": [
    {
     "name": "stdout",
     "output_type": "stream",
     "text": [
      "PRIMARY_KEY                      0\n",
      "STATE                            0\n",
      "YEAR                             0\n",
      "ENROLL                           9\n",
      "TOTAL_REVENUE                    8\n",
      "FEDERAL_REVENUE                  8\n",
      "STATE_REVENUE                    8\n",
      "LOCAL_REVENUE                    8\n",
      "TOTAL_EXPENDITURE                8\n",
      "INSTRUCTION_EXPENDITURE          8\n",
      "SUPPORT_SERVICES_EXPENDITURE     8\n",
      "OTHER_EXPENDITURE                9\n",
      "CAPITAL_OUTLAY_EXPENDITURE       8\n",
      "GRADES_PK_G                      8\n",
      "GRADES_KG_G                      1\n",
      "GRADES_4_G                       1\n",
      "GRADES_8_G                       1\n",
      "GRADES_12_G                      1\n",
      "GRADES_1_8_G                    13\n",
      "GRADES_9_12_G                   12\n",
      "GRADES_ALL_G                     1\n",
      "AVG_MATH_4_SCORE                22\n",
      "AVG_MATH_8_SCORE                21\n",
      "AVG_READING_4_SCORE             20\n",
      "AVG_READING_8_SCORE             22\n",
      "dtype: int64\n"
     ]
    }
   ],
   "source": [
    "print(statesCal.isnull().sum())"
   ]
  },
  {
   "cell_type": "code",
   "execution_count": 25,
   "metadata": {},
   "outputs": [],
   "source": [
    "#Filling with mean\n",
    "for col in [\"AVG_MATH_4_SCORE\",\"AVG_MATH_8_SCORE\",\"AVG_READING_4_SCORE\",\"AVG_READING_8_SCORE\"]:\n",
    "    statesCal[col] = statesCal.groupby(\"STATE\").transform(lambda x: x.fillna(x.mean()))[col]"
   ]
  },
  {
   "cell_type": "code",
   "execution_count": 26,
   "metadata": {},
   "outputs": [
    {
     "data": {
      "text/plain": [
       "PRIMARY_KEY                      0\n",
       "STATE                            0\n",
       "YEAR                             0\n",
       "ENROLL                           9\n",
       "TOTAL_REVENUE                    8\n",
       "FEDERAL_REVENUE                  8\n",
       "STATE_REVENUE                    8\n",
       "LOCAL_REVENUE                    8\n",
       "TOTAL_EXPENDITURE                8\n",
       "INSTRUCTION_EXPENDITURE          8\n",
       "SUPPORT_SERVICES_EXPENDITURE     8\n",
       "OTHER_EXPENDITURE                9\n",
       "CAPITAL_OUTLAY_EXPENDITURE       8\n",
       "GRADES_PK_G                      8\n",
       "GRADES_KG_G                      1\n",
       "GRADES_4_G                       1\n",
       "GRADES_8_G                       1\n",
       "GRADES_12_G                      1\n",
       "GRADES_1_8_G                    13\n",
       "GRADES_9_12_G                   12\n",
       "GRADES_ALL_G                     1\n",
       "AVG_MATH_4_SCORE                 0\n",
       "AVG_MATH_8_SCORE                 0\n",
       "AVG_READING_4_SCORE              0\n",
       "AVG_READING_8_SCORE              0\n",
       "dtype: int64"
      ]
     },
     "execution_count": 26,
     "metadata": {},
     "output_type": "execute_result"
    }
   ],
   "source": [
    "statesCal.isnull().sum()"
   ]
  },
  {
   "cell_type": "code",
   "execution_count": 27,
   "metadata": {},
   "outputs": [],
   "source": [
    "states = pd.read_csv(r\"C:\\Users\\Kleerys\\Desktop\\Career\\1.1-Python\\1.1-DataSets\\states_all.csv\")"
   ]
  },
  {
   "cell_type": "code",
   "execution_count": 28,
   "metadata": {},
   "outputs": [],
   "source": [
    "statesCal = states[states[\"STATE\"] == \"CALIFORNIA\"]"
   ]
  },
  {
   "cell_type": "code",
   "execution_count": 29,
   "metadata": {},
   "outputs": [],
   "source": [
    "#Filling with median\n",
    "for col in [\"AVG_MATH_4_SCORE\",\"AVG_MATH_8_SCORE\",\"AVG_READING_4_SCORE\",\"AVG_READING_8_SCORE\"]:\n",
    "    statesCal[col] = statesCal.groupby(\"STATE\").transform(lambda x: x.fillna(x.median()))[col]"
   ]
  },
  {
   "cell_type": "code",
   "execution_count": 30,
   "metadata": {},
   "outputs": [
    {
     "data": {
      "text/plain": [
       "PRIMARY_KEY                      0\n",
       "STATE                            0\n",
       "YEAR                             0\n",
       "ENROLL                           9\n",
       "TOTAL_REVENUE                    8\n",
       "FEDERAL_REVENUE                  8\n",
       "STATE_REVENUE                    8\n",
       "LOCAL_REVENUE                    8\n",
       "TOTAL_EXPENDITURE                8\n",
       "INSTRUCTION_EXPENDITURE          8\n",
       "SUPPORT_SERVICES_EXPENDITURE     8\n",
       "OTHER_EXPENDITURE                9\n",
       "CAPITAL_OUTLAY_EXPENDITURE       8\n",
       "GRADES_PK_G                      8\n",
       "GRADES_KG_G                      1\n",
       "GRADES_4_G                       1\n",
       "GRADES_8_G                       1\n",
       "GRADES_12_G                      1\n",
       "GRADES_1_8_G                    13\n",
       "GRADES_9_12_G                   12\n",
       "GRADES_ALL_G                     1\n",
       "AVG_MATH_4_SCORE                 0\n",
       "AVG_MATH_8_SCORE                 0\n",
       "AVG_READING_4_SCORE              0\n",
       "AVG_READING_8_SCORE              0\n",
       "dtype: int64"
      ]
     },
     "execution_count": 30,
     "metadata": {},
     "output_type": "execute_result"
    }
   ],
   "source": [
    "statesCal.isnull().sum()"
   ]
  },
  {
   "cell_type": "code",
   "execution_count": 39,
   "metadata": {},
   "outputs": [],
   "source": [
    "states = pd.read_csv(r\"C:\\Users\\Kleerys\\Desktop\\Career\\1.1-Python\\1.1-DataSets\\states_all.csv\")"
   ]
  },
  {
   "cell_type": "code",
   "execution_count": 40,
   "metadata": {},
   "outputs": [],
   "source": [
    "statesCal = states[states[\"STATE\"] == \"CALIFORNIA\"]"
   ]
  },
  {
   "cell_type": "code",
   "execution_count": 41,
   "metadata": {},
   "outputs": [],
   "source": [
    "#Filling with median\n",
    "for col in [\"AVG_MATH_4_SCORE\",\"AVG_MATH_8_SCORE\",\"AVG_READING_4_SCORE\",\"AVG_READING_8_SCORE\"]:\n",
    "    statesCal[col].interpolate(inplace = True, method = \"pad\")"
   ]
  },
  {
   "cell_type": "code",
   "execution_count": 42,
   "metadata": {},
   "outputs": [
    {
     "data": {
      "text/plain": [
       "PRIMARY_KEY                      0\n",
       "STATE                            0\n",
       "YEAR                             0\n",
       "ENROLL                           9\n",
       "TOTAL_REVENUE                    8\n",
       "FEDERAL_REVENUE                  8\n",
       "STATE_REVENUE                    8\n",
       "LOCAL_REVENUE                    8\n",
       "TOTAL_EXPENDITURE                8\n",
       "INSTRUCTION_EXPENDITURE          8\n",
       "SUPPORT_SERVICES_EXPENDITURE     8\n",
       "OTHER_EXPENDITURE                9\n",
       "CAPITAL_OUTLAY_EXPENDITURE       8\n",
       "GRADES_PK_G                      8\n",
       "GRADES_KG_G                      1\n",
       "GRADES_4_G                       1\n",
       "GRADES_8_G                       1\n",
       "GRADES_12_G                      1\n",
       "GRADES_1_8_G                    13\n",
       "GRADES_9_12_G                   12\n",
       "GRADES_ALL_G                     1\n",
       "AVG_MATH_4_SCORE                 0\n",
       "AVG_MATH_8_SCORE                 0\n",
       "AVG_READING_4_SCORE              0\n",
       "AVG_READING_8_SCORE              6\n",
       "dtype: int64"
      ]
     },
     "execution_count": 42,
     "metadata": {},
     "output_type": "execute_result"
    }
   ],
   "source": [
    "statesCal.isnull().sum()"
   ]
  }
 ],
 "metadata": {
  "kernelspec": {
   "display_name": "Python 3",
   "language": "python",
   "name": "python3"
  },
  "language_info": {
   "codemirror_mode": {
    "name": "ipython",
    "version": 3
   },
   "file_extension": ".py",
   "mimetype": "text/x-python",
   "name": "python",
   "nbconvert_exporter": "python",
   "pygments_lexer": "ipython3",
   "version": "3.8.3"
  }
 },
 "nbformat": 4,
 "nbformat_minor": 4
}
