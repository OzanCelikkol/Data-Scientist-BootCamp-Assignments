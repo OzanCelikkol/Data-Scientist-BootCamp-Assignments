{
 "cells": [
  {
   "cell_type": "code",
   "execution_count": null,
   "metadata": {
    "scrolled": true
   },
   "outputs": [],
   "source": [
    "degree = input(\"Please enter temperature in Celcius or \\\n",
    "Fahrenheit(Please type c for Celcius and f for Fahrenheit en of the value): \\n\")\n",
    "if(degree[-1]=='c'):\n",
    "    print(\"The temperature in Celcius is: {:.2f} degree.\".format((int(degree[:-1])*9/5)+32))\n",
    "elif(degree[-1]=='f'):\n",
    "    print(\"The temperature in Fahrenheit is: {:.2f} degree.\".format((int(degree[:-1])-32)*(5/9)))\n",
    "else:\n",
    "    print(\"You might entered an invalid value. Please check and try again.\")"
   ]
  },
  {
   "cell_type": "code",
   "execution_count": null,
   "metadata": {},
   "outputs": [],
   "source": [
    "sal = input(\"Please enter your salary(monthly): \\n\")\n",
    "yearOfService = input(\"Please enter your year of service(year): \\n\")\n",
    "if(int(yearOfService)>=5):\n",
    "    print(\"You earn {:.2f} unit bonus. Congrats!!\\n\".format(int(sal)*0.05))\n",
    "elif(int(yearOfService)<5):\n",
    "    print(\"We are sorry to say you didn'\\t earn any bonus.\")\n",
    "else:\n",
    "    print(\"Error!\")"
   ]
  },
  {
   "cell_type": "code",
   "execution_count": null,
   "metadata": {},
   "outputs": [],
   "source": [
    "ages = input(\"Please enter ages of three people by putting one space between them: \\n\")\n",
    "ageList = ages.split()\n",
    "print(ageList)\n",
    "for k in range(3):\n",
    "    ageList[k]=int(ageList[k])\n",
    "for x in range(3):\n",
    "    for y in range(2):\n",
    "        if(ageList[y])>(ageList[y+1]):\n",
    "            temp = ageList[y]\n",
    "            ageList[y] = ageList[y+1]\n",
    "            ageList[y+1] = temp\n",
    "print(\"Ages you entered from lowest to highest:\")\n",
    "for z in range(3):\n",
    "    print(ageList[z],\"\\n\")\n",
    "    \n",
    "    "
   ]
  },
  {
   "cell_type": "code",
   "execution_count": null,
   "metadata": {},
   "outputs": [],
   "source": [
    "numberHeld = input(\"Please enter the number of classes held by the student: \\n\")\n",
    "numberAtt = input(\"Please enter the number of classes attended by the student \\n\")\n",
    "totAtt = int(numberHeld)*0.75\n",
    "if(totAtt>int(numberAtt)):\n",
    "    print(\"Your attendence percentage is: {} and you are not allowed to get the exam!\\n\".format(int(numberAtt)/int(numberHeld)))\n",
    "elif(totAtt<int(numberAtt)):\n",
    "    print(\"Your attendence percentage is: {} and you are allowed to get the exam.\\\n",
    "          Congrats and good luck!\\n\".format(int(numberAtt)/int(numberHeld)))\n",
    "else:\n",
    "    print(\"Error!\")\n",
    "    "
   ]
  },
  {
   "cell_type": "code",
   "execution_count": 10,
   "metadata": {},
   "outputs": [
    {
     "name": "stdout",
     "output_type": "stream",
     "text": [
      "Please enter two letters: \n",
      "ye\n",
      "The first letter you entered is 'y' and consonant for tihs very condition.\n",
      "\n"
     ]
    }
   ],
   "source": [
    "vowelList = ['a','e','i','o','u']\n",
    "letter = input(\"Please enter two letters: \\n\")\n",
    "if(letter[0] in vowelList):\n",
    "    print(\"The first letter you entered is vowel\\n\")\n",
    "elif(int(letter[0]=='y') & (letter[1] not in vowelList)):\n",
    "    print(\"The first letter you entered is 'y' and vowel for this very condition.\\n\")\n",
    "elif(int(letter[0]=='y') & (letter[1] in vowelList)):\n",
    "    print(\"The first letter you entered is 'y' and consonant for this very condition.\\n\")\n",
    "else:\n",
    "    print(\"The first letter you entered is consonant.\")"
   ]
  },
  {
   "cell_type": "code",
   "execution_count": null,
   "metadata": {},
   "outputs": [],
   "source": []
  }
 ],
 "metadata": {
  "kernelspec": {
   "display_name": "Python 3",
   "language": "python",
   "name": "python3"
  },
  "language_info": {
   "codemirror_mode": {
    "name": "ipython",
    "version": 3
   },
   "file_extension": ".py",
   "mimetype": "text/x-python",
   "name": "python",
   "nbconvert_exporter": "python",
   "pygments_lexer": "ipython3",
   "version": "3.8.3"
  }
 },
 "nbformat": 4,
 "nbformat_minor": 4
}
