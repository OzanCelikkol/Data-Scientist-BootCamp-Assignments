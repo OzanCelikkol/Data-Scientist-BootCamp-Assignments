{
 "cells": [
  {
   "cell_type": "markdown",
   "metadata": {},
   "source": [
    "# <font color=blue>Assignments for \"Data Cleaning - Variable Types\"</font>"
   ]
  },
  {
   "cell_type": "markdown",
   "metadata": {},
   "source": [
    "**(1)** Determine the types of the below-given variables:\n",
    "- Age\n",
    "- Salary\n",
    "- Income\n",
    "- Customer type\n",
    "- Stock price "
   ]
  },
  {
   "cell_type": "markdown",
   "metadata": {},
   "source": [
    "**-Age -> Ratio(Continuous)**\n",
    "<Br>\n",
    "**-Salary -> Interval(Continuous)**\n",
    "<Br>\n",
    "**-Income -> Interval(Continuous)**\n",
    "<Br>\n",
    "**-Customer Type -> Nominal(Categorical)**\n",
    "<Br>\n",
    "**-Stock Price -> Interval(continuous)**"
   ]
  },
  {
   "cell_type": "markdown",
   "metadata": {},
   "source": [
    "**(2)** Using the `movie` data, we have studied in this lesson. Complete the following tasks:\n",
    "    * Select a variable from the `movie` dataset and discuss the variable type of this variable\n",
    "    * Categorize a variable of your choice and assign a name to it\n",
    "    * Count the number of rows for each category"
   ]
  },
  {
   "cell_type": "code",
   "execution_count": 13,
   "metadata": {},
   "outputs": [
    {
     "data": {
      "text/plain": [
       "array([  7.,  11.,  14.,  20.,  22.,  23.,  24.,  25.,  27.,  28.,  30.,\n",
       "        34.,  35.,  37.,  40.,  41.,  42.,  43.,  44.,  45.,  46.,  47.,\n",
       "        50.,  52.,  53.,  54.,  55.,  58.,  59.,  60.,  62.,  63.,  64.,\n",
       "        65.,  66.,  67.,  68.,  69.,  70.,  71.,  72.,  73.,  74.,  75.,\n",
       "        76.,  77.,  78.,  79.,  80.,  81.,  82.,  83.,  84.,  85.,  86.,\n",
       "        87.,  88.,  89.,  90.,  91.,  92.,  93.,  94.,  95.,  96.,  97.,\n",
       "        98.,  99., 100., 101., 102., 103., 104., 105., 106., 107., 108.,\n",
       "       109., 110., 111., 112., 113., 114., 115., 116., 117., 118., 119.,\n",
       "       120., 121., 122., 123., 124., 125., 126., 127., 128., 129., 130.,\n",
       "       131., 132., 133., 134., 135., 136., 137., 138., 139., 140., 141.,\n",
       "       142., 143., 144., 145., 146., 147., 148., 149., 150., 151., 152.,\n",
       "       153., 154., 155., 156., 157., 158., 159., 160., 161., 162., 163.,\n",
       "       164., 165., 166., 167., 168., 169., 170., 171., 172., 173., 174.,\n",
       "       175., 176., 177., 178., 180., 181., 182., 183., 184., 185., 186.,\n",
       "       187., 188., 189., 190., 192., 193., 194., 195., 196., 197., 199.,\n",
       "       200., 201., 202., 206., 212., 215., 216., 219., 220., 225., 226.,\n",
       "       227., 236., 240., 251., 270., 271., 280., 286., 289., 293., 300.,\n",
       "       325., 330., 334., 511.])"
      ]
     },
     "metadata": {},
     "output_type": "display_data"
    },
    {
     "data": {
      "text/plain": [
       "0           long (more than 120 minutes)\n",
       "1           long (more than 120 minutes)\n",
       "2           long (more than 120 minutes)\n",
       "3           long (more than 120 minutes)\n",
       "4       mid (between 60 and 120 minutes)\n",
       "                      ...               \n",
       "5038    mid (between 60 and 120 minutes)\n",
       "5039          short (60 minutes or less)\n",
       "5040    mid (between 60 and 120 minutes)\n",
       "5041    mid (between 60 and 120 minutes)\n",
       "5042    mid (between 60 and 120 minutes)\n",
       "Name: movie_lenght, Length: 5043, dtype: object"
      ]
     },
     "metadata": {},
     "output_type": "display_data"
    },
    {
     "data": {
      "text/plain": [
       "movie_lenght\n",
       "long (more than 120 minutes)        1067\n",
       "mid (between 60 and 120 minutes)    3867\n",
       "short (60 minutes or less)           109\n",
       "Name: duration, dtype: int64"
      ]
     },
     "metadata": {},
     "output_type": "display_data"
    }
   ],
   "source": [
    "import pandas as pd\n",
    "import numpy as np\n",
    "\n",
    "def catDur(duration):\n",
    "    if (duration <= 60):\n",
    "        return \"short (60 minutes or less)\"\n",
    "    elif (duration > 60) & (duration <= 120):\n",
    "        return \"mid (between 60 and 120 minutes)\"\n",
    "    else:\n",
    "        return \"long (more than 120 minutes)\"\n",
    "\n",
    "movie = pd.read_csv(\"https://bootrain-lms-assets.s3.eu-central-1.amazonaws.com/bootrain-lms-static/datasets/movie.csv\")\n",
    "movie.duration.fillna(int(movie.duration.mean()), inplace = True)\n",
    "display(np.sort(movie.duration.unique()))\n",
    "movie[\"movie_lenght\"] = movie[\"duration\"].apply(catDur)\n",
    "display(movie.movie_lenght)\n",
    "display(movie.groupby(\"movie_lenght\")[\"duration\"].count())"
   ]
  },
  {
   "cell_type": "markdown",
   "metadata": {},
   "source": [
    "**(3)** Is it possible to convert categorical variable into numerical one? If so, how can you make that?"
   ]
  },
  {
   "cell_type": "markdown",
   "metadata": {},
   "source": [
    "Yes. You can enter a vule for each row or decide a value for each category and assign to its row. "
   ]
  },
  {
   "cell_type": "markdown",
   "metadata": {},
   "source": [
    "**(4)** While continuous data is generally preferred over discrete data, please indicate circumstances where discrete is the preferred data type although continuous data is available for the same characteristic."
   ]
  },
  {
   "cell_type": "markdown",
   "metadata": {},
   "source": [
    "If we had to count something, continuous variables drag us into a dead end. In this situation we should use dicrete datas\n",
    "<Br>\n",
    "instead of continuous datas."
   ]
  },
  {
   "cell_type": "markdown",
   "metadata": {},
   "source": [
    "**(5)** While continuous data is measured and attribute data is counted, there is sometimes confusion if some specific dataset should be considered continuous or attribute. Provide some examples of confusing datasets and your inference. "
   ]
  },
  {
   "cell_type": "markdown",
   "metadata": {},
   "source": [
    "If we had to deal with a dataset including dates it might seemed discrete just because date can be counted. In this situation,\n",
    "<Br>\n",
    "our scaling and data type become very important properties. If date-time goes to infinitive time values becomes uncountable.\n",
    "<Br> Or if we observe changes on our data in every moment, we get wrong results when we think date is a discrete variable."
   ]
  }
 ],
 "metadata": {
  "kernelspec": {
   "display_name": "Python 3",
   "language": "python",
   "name": "python3"
  },
  "language_info": {
   "codemirror_mode": {
    "name": "ipython",
    "version": 3
   },
   "file_extension": ".py",
   "mimetype": "text/x-python",
   "name": "python",
   "nbconvert_exporter": "python",
   "pygments_lexer": "ipython3",
   "version": "3.8.3"
  }
 },
 "nbformat": 4,
 "nbformat_minor": 4
}
