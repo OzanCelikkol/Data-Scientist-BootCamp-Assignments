{
 "cells": [
  {
   "cell_type": "code",
   "execution_count": 1,
   "metadata": {
    "scrolled": false
   },
   "outputs": [
    {
     "name": "stdout",
     "output_type": "stream",
     "text": [
      "[['Ref1' 'Latitude' 'Longitude' 'Depth' 'Magnitude']\n",
      " ['1' '1' '1' '1' '1']\n",
      " ['0' '37.4341' '35.852' '7.02' '4.1']\n",
      " ['0' '37.6878' '37.4016' '10.27' '4.4']\n",
      " ['0' '37.2003' '30.4376' '78.07' '4.0']\n",
      " ['0' '35.6846' '26.7266' '42.77' '4.5']\n",
      " ['0' '36.4171' '28.6991' '14.86' '4.1']\n",
      " ['0' '36.0535' '31.2135' '36.68' '5.2']\n",
      " ['0' '37.1958' '30.6241' '50.33' '4.8']\n",
      " ['0' '36.9653' '27.7633' '6.93' '4.3']\n",
      " ['0' '38.893' '26.4483' '11.62' '4.2']\n",
      " ['0' '37.3773' '36.3855' '10.53' '4.8']\n",
      " ['0' '35.8861' '26.0695' '28.49' '4.9']\n",
      " ['0' '37.4635' '36.3113' '15.29' '4.3']\n",
      " ['0' '37.0201' '36.0845' '10.0' '4.1']\n",
      " ['0' '37.6546' '26.6698' '4.5' '4.5']\n",
      " ['0' '37.5318' '29.848000000000003' '17.58' '4.6']\n",
      " ['0' '39.0388' '44.1533' '7.52' '4.5']\n",
      " ['0' '38.357' '44.8686' '10.05' '4.1']\n",
      " ['0' '35.7018' '28.1495' '6.25' '4.1']]\n",
      "1. Row -----> Mean: 1.00000 , Standart Deviation: 0.00000\n",
      "2. Row -----> Mean: 16.88122 , Standart Deviation: 16.29657\n",
      "3. Row -----> Mean: 17.95188 , Standart Deviation: 16.32625\n",
      "4. Row -----> Mean: 29.94158 , Standart Deviation: 28.06686\n",
      "5. Row -----> Mean: 21.93624 , Standart Deviation: 16.91882\n",
      "6. Row -----> Mean: 16.81524 , Standart Deviation: 13.95501\n",
      "7. Row -----> Mean: 21.82940 , Standart Deviation: 15.89960\n",
      "8. Row -----> Mean: 24.58998 , Standart Deviation: 19.25708\n",
      "9. Row -----> Mean: 15.19172 , Standart Deviation: 14.49005\n",
      "10. Row -----> Mean: 16.23226 , Standart Deviation: 14.47350\n",
      "11. Row -----> Mean: 17.81856 , Standart Deviation: 15.92095\n",
      "12. Row -----> Mean: 19.06912 , Standart Deviation: 14.03542\n",
      "13. Row -----> Mean: 18.67296 , Standart Deviation: 15.69013\n",
      "14. Row -----> Mean: 17.44092 , Standart Deviation: 15.92771\n",
      "15. Row -----> Mean: 14.66488 , Standart Deviation: 14.79428\n",
      "16. Row -----> Mean: 17.91196 , Standart Deviation: 14.32176\n",
      "17. Row -----> Mean: 19.04242 , Standart Deviation: 18.64014\n",
      "18. Row -----> Mean: 19.47512 , Standart Deviation: 18.47085\n",
      "19. Row -----> Mean: 14.84026 , Standart Deviation: 14.29489\n",
      "<generator object <genexpr> at 0x00000206EB8D7740>\n",
      "<generator object <genexpr> at 0x00000206EB8D7740>\n"
     ]
    }
   ],
   "source": [
    "import numpy as np\n",
    "\n",
    "array = np.load(\"earthQuakeFirst20.npy\")\n",
    "print(array)\n",
    "for x in range(1,array.shape[0]):\n",
    "    mean = np.mean(array[x].astype(float))\n",
    "    std = np.std(array[x].astype(float))\n",
    "    print(\"{}. Row -----> Mean: {:.5f} , Standart Deviation: {:.5f}\".format(x, mean, std))\n",
    "print((array[x].astype(float) - [1,25,25,10,4]) for x in range(1,array.shape[0]))\n",
    "print(((array[y].astype(float))*2) for y in range(array.shape[0]))"
   ]
  }
 ],
 "metadata": {
  "kernelspec": {
   "display_name": "Python 3",
   "language": "python",
   "name": "python3"
  },
  "language_info": {
   "codemirror_mode": {
    "name": "ipython",
    "version": 3
   },
   "file_extension": ".py",
   "mimetype": "text/x-python",
   "name": "python",
   "nbconvert_exporter": "python",
   "pygments_lexer": "ipython3",
   "version": "3.8.3"
  }
 },
 "nbformat": 4,
 "nbformat_minor": 4
}
