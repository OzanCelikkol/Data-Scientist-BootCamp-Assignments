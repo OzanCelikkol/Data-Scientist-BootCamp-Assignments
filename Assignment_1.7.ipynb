{
 "cells": [
  {
   "cell_type": "code",
   "execution_count": null,
   "metadata": {},
   "outputs": [],
   "source": [
    "number = input(\"Please enter a number in range of 1000: \\n\")\n",
    "for x in range(10):\n",
    "    print(\"{} x {} = {}\\n\".format(number,(x+1),(int(number)*(x+1))))"
   ]
  },
  {
   "cell_type": "code",
   "execution_count": null,
   "metadata": {},
   "outputs": [],
   "source": [
    "myList = []\n",
    "for x in range(20):\n",
    "    myList.append(x+1)\n",
    "print(myList)\n",
    "for y in range(20):\n",
    "    if(myList[y]%2==0):\n",
    "        print(\"{}--->{}\\n\".format(y+1,(y+1)**2))\n",
    "    elif(myList[y]%2==1):\n",
    "        print(\"{}--->{}\\n\".format(y+1,(y+1)**3))\n",
    "    else:\n",
    "        print(\"Error!\")"
   ]
  },
  {
   "cell_type": "code",
   "execution_count": null,
   "metadata": {
    "scrolled": true
   },
   "outputs": [],
   "source": [
    "word = input(\"Please enter a word: \\n\")\n",
    "print(len(word))\n",
    "myWord = \"\"\n",
    "for x in range(-1,-len(word)-1,-1):\n",
    "    myWord = myWord + word[x]\n",
    "print(myWord)"
   ]
  },
  {
   "cell_type": "code",
   "execution_count": null,
   "metadata": {},
   "outputs": [],
   "source": [
    "myList = []\n",
    "oddList = []\n",
    "evenList = []\n",
    "for x in range(201):\n",
    "    myList.append(x+1)\n",
    "print(myList)\n",
    "for y in range(201):\n",
    "    if(myList[y]%2==0):\n",
    "        evenList.append(myList[y])\n",
    "    elif(myList[y]%2==1):\n",
    "        oddList.append(myList[y])\n",
    "    else:\n",
    "        print(\"Error!\")\n",
    "print(\"\\nEven numpers ---> \",evenList)\n",
    "print(\"\\nOdd numbers --->\",oddList)"
   ]
  },
  {
   "cell_type": "code",
   "execution_count": null,
   "metadata": {},
   "outputs": [],
   "source": [
    "def counter (mySeq , item):\n",
    "    count = 0\n",
    "    for y in range(len(mySeq)-1):\n",
    "        if(mySeq[y] == int(item)):\n",
    "            count = count +1\n",
    "    return count\n",
    "\n",
    "mySeq = [3, 5, 7, 3, 7, 3, 4, 5, 7, 3, 1, 2]\n",
    "item = input(\"Please enter a number in range of 10: \")\n",
    "print(counter(mySeq , item))"
   ]
  },
  {
   "cell_type": "code",
   "execution_count": null,
   "metadata": {},
   "outputs": [],
   "source": [
    "num = input(\"Please enter a number: \")\n",
    "tot = 0\n",
    "while not num.isdigit():\n",
    "    num = input(\"Please enter a number: \")\n",
    "while not len(num)==1:\n",
    "    tot = 0\n",
    "    for x in num:\n",
    "        tot += int(num[num.index(x)])\n",
    "    num = str(tot)\n",
    "print(tot)"
   ]
  },
  {
   "cell_type": "code",
   "execution_count": 21,
   "metadata": {},
   "outputs": [
    {
     "name": "stdout",
     "output_type": "stream",
     "text": [
      "Please enter two numbers with a space between them: 48 12\n",
      "['48', '12']\n",
      "12\n"
     ]
    }
   ],
   "source": [
    "def eob (myNum):\n",
    "    div = 0\n",
    "    if(int(myNum[0])>int(myNum[1])):\n",
    "        for x in range(1,int(myNum[1])+1,1):\n",
    "            if((int(myNum[0])%x==0) & (int(myNum[1])%x==0)):\n",
    "                div = x\n",
    "    elif(int(myNum[0])<int(myNum[1])):\n",
    "        for x in range(1,int(myNum[0])+1,1):\n",
    "            if((int(myNum[0])%x==0) & (int(myNum[1])%x==0)):\n",
    "                div=x\n",
    "    return div\n",
    " \n",
    "num = input(\"Please enter two numbers with a space between them: \")\n",
    "myNum = num.split()\n",
    "print(myNum)\n",
    "print(eob(myNum)) "
   ]
  },
  {
   "cell_type": "code",
   "execution_count": 28,
   "metadata": {},
   "outputs": [
    {
     "name": "stdout",
     "output_type": "stream",
     "text": [
      "[1, 2, 3, 4, 5, 6, 7, 8, 9, 10, 11, 12, 13, 14, 15, 16, 17, 18, 19, 20, 21, 22, 23, 24, 25, 26, 27, 28, 29, 30, 31, 32, 33, 34, 35, 36, 37, 38, 39, 40, 41, 42, 43, 44, 45, 46, 47, 48, 49, 50]\n",
      "[1, 2, 'fizz', 4, 'buzz', 'fizz', 7, 8, 'fizz', 'buzz', 11, 'fizz', 13, 14, 'fizzbuzz', 16, 17, 'fizz', 19, 'buzz', 'fizz', 22, 23, 'fizz', 'buzz', 26, 'fizz', 28, 29, 'fizzbuzz', 31, 32, 'fizz', 34, 'buzz', 'fizz', 37, 38, 'fizz', 'buzz', 41, 'fizz', 43, 44, 'fizzbuzz', 46, 47, 'fizz', 49, 'buzz']\n"
     ]
    }
   ],
   "source": [
    "def fizzBuzz (myList):\n",
    "    prt = []\n",
    "    for x in range(len(myList)):\n",
    "        if((myList[x]%3==0) & (myList[x]%5!=0)):\n",
    "            prt.append(\"fizz\")\n",
    "        elif((myList[x]%3!=0) & (myList[x]%5==0)):\n",
    "            prt.append(\"buzz\")\n",
    "        elif((myList[x]%3==0) & (myList[x]%5==0)):\n",
    "            prt.append(\"fizzbuzz\")\n",
    "        else:\n",
    "            prt.append(myList[x])\n",
    "    return prt\n",
    "myList = []\n",
    "for x in range(50):\n",
    "    myList.append(x+1)\n",
    "print(myList)\n",
    "print(fizzBuzz(myList))"
   ]
  }
 ],
 "metadata": {
  "kernelspec": {
   "display_name": "Python 3",
   "language": "python",
   "name": "python3"
  },
  "language_info": {
   "codemirror_mode": {
    "name": "ipython",
    "version": 3
   },
   "file_extension": ".py",
   "mimetype": "text/x-python",
   "name": "python",
   "nbconvert_exporter": "python",
   "pygments_lexer": "ipython3",
   "version": "3.8.3"
  }
 },
 "nbformat": 4,
 "nbformat_minor": 4
}
