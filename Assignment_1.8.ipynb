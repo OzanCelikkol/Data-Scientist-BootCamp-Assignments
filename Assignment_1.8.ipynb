{
 "cells": [
  {
   "cell_type": "code",
   "execution_count": null,
   "metadata": {},
   "outputs": [],
   "source": [
    "def isPrime (num):\n",
    "    for x in range(1,int(int(num)//2),1):\n",
    "        if(int(num)%x==0)&(x!=int(num))&(x!=1):\n",
    "            \n",
    "            result = False\n",
    "        elif(int(num)%x!=0):\n",
    "            result = True\n",
    "    return result\n",
    "\n",
    "num = input(\"Please enter a number: \")\n",
    "print(isPrime(num))"
   ]
  },
  {
   "cell_type": "code",
   "execution_count": null,
   "metadata": {},
   "outputs": [],
   "source": [
    "def newList (oldList):\n",
    "    list1 = []\n",
    "    for x in range(len(oldList)-1):\n",
    "        if (oldList[x] not in list1):\n",
    "            list1.append(oldList[x])\n",
    "    return list1\n",
    "\n",
    "oldList = [1,1,1,2,2,3,3,4,5,5,5,6,6,7,8,9,9,10,10]\n",
    "print(newList(oldList))"
   ]
  },
  {
   "cell_type": "code",
   "execution_count": null,
   "metadata": {},
   "outputs": [],
   "source": [
    "from datetime import date\n",
    "def calculateAge (birthday):\n",
    "    today = date.today()\n",
    "    age = today.year - birthday.year - ((today.month, today.day) < (birthday.month, birthday.day))\n",
    "\n",
    "    return age\n",
    "\n",
    "birthday = input(\"Please enter your brth date as yyyy mm dd by placing a space between them: \")\n",
    "birthday = birthday.split()\n",
    "for x in range(len(birthday)):\n",
    "    birthday[x] = int(birthday[x])\n",
    "print (birthday)\n",
    "print(calculateAge(date(birthday[0],birthday[1],birthday[2])),\"years\")"
   ]
  },
  {
   "cell_type": "code",
   "execution_count": null,
   "metadata": {},
   "outputs": [],
   "source": [
    "def factorial (number):\n",
    "    for x in range(1,number,1):\n",
    "        number = x * number\n",
    "    return number\n",
    "\n",
    "number = input(\"Please enter a number: \")\n",
    "print(factorial(int(number)))"
   ]
  },
  {
   "cell_type": "code",
   "execution_count": 14,
   "metadata": {},
   "outputs": [
    {
     "name": "stdout",
     "output_type": "stream",
     "text": [
      "[6, 28, 496]\n"
     ]
    }
   ],
   "source": [
    "def perfect(number):\n",
    "    tot = 0\n",
    "    perfectList = []\n",
    "    for x in range(1,len(number)):\n",
    "        for y in range(1,x):\n",
    "            if(x == tot) & (tot not in perfectList) & (y == x-1):\n",
    "                perfectList.append(x)\n",
    "            elif(x % y == 0):\n",
    "                tot += y\n",
    "            else:\n",
    "                continue\n",
    "        tot = 0\n",
    "    return perfectList\n",
    "\n",
    "\n",
    "number = []\n",
    "for a in range(1,1001,1):\n",
    "    number.append(a)\n",
    "print(perfect(number))"
   ]
  },
  {
   "cell_type": "code",
   "execution_count": 57,
   "metadata": {},
   "outputs": [
    {
     "name": "stdout",
     "output_type": "stream",
     "text": [
      "Please enter a number: 5\n",
      "[1] \n",
      "\n",
      "[1, 1] \n",
      "\n",
      "[1, 2, 1] \n",
      "\n",
      "[1, 3, 3, 1] \n",
      "\n",
      "[1, 4, 6, 4, 1] \n",
      "\n"
     ]
    }
   ],
   "source": [
    "def pascalTri (number):\n",
    "    pascal = []\n",
    "    for x in range(number):\n",
    "        tempList = []\n",
    "        for y in range(x+1):\n",
    "            if y==0 or x==y:\n",
    "                tempList.append(1)\n",
    "            else:\n",
    "                tempList.append(pascal[x-1][y-1]+pascal[x-1][y])\n",
    "        pascal.append(tempList)\n",
    "    return pascal\n",
    "number = int(input(\"Please enter a number: \"))\n",
    "for x in range(number):\n",
    "    print((pascalTri(number)[x]),\"\\n\")"
   ]
  }
 ],
 "metadata": {
  "kernelspec": {
   "display_name": "Python 3",
   "language": "python",
   "name": "python3"
  },
  "language_info": {
   "codemirror_mode": {
    "name": "ipython",
    "version": 3
   },
   "file_extension": ".py",
   "mimetype": "text/x-python",
   "name": "python",
   "nbconvert_exporter": "python",
   "pygments_lexer": "ipython3",
   "version": "3.8.3"
  }
 },
 "nbformat": 4,
 "nbformat_minor": 4
}
