{
 "cells": [
  {
   "cell_type": "code",
   "execution_count": null,
   "metadata": {},
   "outputs": [],
   "source": [
    "def divNum (num1, num2):\n",
    "    try:\n",
    "        result = (int(num1) / int(num2))\n",
    "        return result\n",
    "    except Exception as e:\n",
    "        if(num2==0):\n",
    "            print(\"{} error occured!\".format(e))\n",
    "        return \"{} error occured!\".format(e)\n",
    "num1 = input(\"Please enter a number: \")\n",
    "num2 = input(\"Please enter an another number: \")\n",
    "print(divNum(num1,num2))"
   ]
  },
  {
   "cell_type": "code",
   "execution_count": 42,
   "metadata": {},
   "outputs": [
    {
     "name": "stdout",
     "output_type": "stream",
     "text": [
      "Please enter your name: 4\n",
      "Please enter only string!\n"
     ]
    }
   ],
   "source": [
    "def printName(name):\n",
    "    try:\n",
    "        int(name)\n",
    "        return \"Please enter only string!\"\n",
    "    except:\n",
    "        return name\n",
    "    \n",
    "name = input(\"Please enter your name: \")\n",
    "print(printName(name))"
   ]
  },
  {
   "cell_type": "code",
   "execution_count": null,
   "metadata": {},
   "outputs": [],
   "source": [
    "def printNumber(number):\n",
    "    try:\n",
    "        result = int(number)\n",
    "        return result\n",
    "    except:\n",
    "        return \"Please enter only number!\"\n",
    "\n",
    "number = input(\"Please enter a number: \")\n",
    "print(printNumber(number))"
   ]
  }
 ],
 "metadata": {
  "kernelspec": {
   "display_name": "Python 3",
   "language": "python",
   "name": "python3"
  },
  "language_info": {
   "codemirror_mode": {
    "name": "ipython",
    "version": 3
   },
   "file_extension": ".py",
   "mimetype": "text/x-python",
   "name": "python",
   "nbconvert_exporter": "python",
   "pygments_lexer": "ipython3",
   "version": "3.8.3"
  }
 },
 "nbformat": 4,
 "nbformat_minor": 4
}
