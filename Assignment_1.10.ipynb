{
 "cells": [
  {
   "cell_type": "code",
   "execution_count": 1,
   "metadata": {},
   "outputs": [
    {
     "name": "stdout",
     "output_type": "stream",
     "text": [
      "Bu bir ÅŸiir\n",
      "Ä°nanmayan gidebilir.\n",
      "iki iki dÃ¶rt.\n",
      "Aksi de iddia edilebilir.\n",
      "Bu da bir şiir\n",
      "Tıpkı ilki gibidir.\n",
      "Dört dört sekiz,\n",
      "Üstüne ne diyebiliriz?\n",
      "\n"
     ]
    }
   ],
   "source": [
    "with open(\"Poem.csv\",\"r\") as f:\n",
    "    line = f.read()\n",
    "with open(\"Poem.csv\",\"a\") as f:\n",
    "    f.write(\"\\nBu da bir şiir\\nTıpkı ilki gibidir.\\nDört dört sekiz,\\nÜstüne ne diyebiliriz?\\n\")\n",
    "with open(\"Poem.csv\",\"r\") as f:\n",
    "    line = f.read()\n",
    "print(line)"
   ]
  },
  {
   "cell_type": "code",
   "execution_count": null,
   "metadata": {},
   "outputs": [],
   "source": []
  }
 ],
 "metadata": {
  "kernelspec": {
   "display_name": "Python 3",
   "language": "python",
   "name": "python3"
  },
  "language_info": {
   "codemirror_mode": {
    "name": "ipython",
    "version": 3
   },
   "file_extension": ".py",
   "mimetype": "text/x-python",
   "name": "python",
   "nbconvert_exporter": "python",
   "pygments_lexer": "ipython3",
   "version": "3.8.3"
  }
 },
 "nbformat": 4,
 "nbformat_minor": 4
}
