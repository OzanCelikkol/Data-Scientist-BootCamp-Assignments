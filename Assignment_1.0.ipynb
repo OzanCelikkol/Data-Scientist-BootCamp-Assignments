{
 "cells": [
  {
   "cell_type": "code",
   "execution_count": 6,
   "metadata": {},
   "outputs": [
    {
     "name": "stdout",
     "output_type": "stream",
     "text": [
      "Hello! I'm Ozan Çelikkol\n",
      "My name is: Ozan \n",
      "My surname is: Çelikkol\n",
      "I don't want to be an \"Artist\". I want to be a\"Data Scientist\"\n"
     ]
    }
   ],
   "source": [
    "print(\"Hello! I\\'m Ozan Çelikkol\")\n",
    "print(\"My name is: {} \\nMy surname is: {}\".format('Ozan','Çelikkol'))\n",
    "print('I don\\'t want to be an \"Artist\". I want to be a\"Data Scientist\"')"
   ]
  }
 ],
 "metadata": {
  "kernelspec": {
   "display_name": "Python 3",
   "language": "python",
   "name": "python3"
  },
  "language_info": {
   "codemirror_mode": {
    "name": "ipython",
    "version": 3
   },
   "file_extension": ".py",
   "mimetype": "text/x-python",
   "name": "python",
   "nbconvert_exporter": "python",
   "pygments_lexer": "ipython3",
   "version": "3.8.3"
  }
 },
 "nbformat": 4,
 "nbformat_minor": 4
}
