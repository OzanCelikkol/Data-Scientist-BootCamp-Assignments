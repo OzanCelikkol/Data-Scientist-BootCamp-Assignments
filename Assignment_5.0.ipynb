{
 "cells": [
  {
   "cell_type": "markdown",
   "metadata": {},
   "source": [
    "# <font color=blue>Assignments for \"What is Exploratory Data Analysis?\"</font>"
   ]
  },
  {
   "cell_type": "markdown",
   "metadata": {},
   "source": [
    "To complete this assignment, send the Github link of the Jupyter notebook file containing solutions to the following questions:"
   ]
  },
  {
   "cell_type": "markdown",
   "metadata": {},
   "source": [
    "**(1)** What is the purpose the data exploration?"
   ]
  },
  {
   "cell_type": "markdown",
   "metadata": {},
   "source": [
    "**The purpose of the data exploration is getting into data analysis. It is our first step before the main process.**"
   ]
  },
  {
   "cell_type": "markdown",
   "metadata": {},
   "source": [
    "**(2)** Suppose you are working on a dataset containing customer reviews of an e-commerce company's products. Customer reviews collected through the company's website are rated between 1 and 5 depending on whether the content is positive or negative.\n",
    "    - What kind of problems do you expect to encounter in this raw data?\n",
    "    - What kind of problems do you expect to encounter in this raw data?\n",
    "    - If your task is to identify the characteristics that reveal that the customers' comments are positive or negative, how would you do that and what methods would you use for this?\n",
    "    - What are the useful features that can be extracted from raw data? How can you access this data and understand whether it is useful?"
   ]
  },
  {
   "cell_type": "markdown",
   "metadata": {},
   "source": [
    "**- Rating might be low even if content is positive and opposite of the situation.**\n",
    "<Br>\n",
    "**- I can search for the adjective that customer used, next to releated words with company's products.**\n",
    "<Br>\n",
    "**- I would look for most used word in the data and try to releate these words with products.**\n",
    "<Br>\n",
    "**-Rating numbers, number of sold products, number of returned products, number of reviews, number of refunds etc. values might be important.** "
   ]
  },
  {
   "cell_type": "markdown",
   "metadata": {},
   "source": [
    "**(3)** Why do you think missing values should be taking care of?"
   ]
  },
  {
   "cell_type": "markdown",
   "metadata": {},
   "source": [
    "**Because it drags our central tendency and distribution measurements far away from the correct values.** "
   ]
  },
  {
   "cell_type": "markdown",
   "metadata": {},
   "source": [
    "**(4)** Do you think that outliers have an impact on a dataset? If so, how would you explain this impact?"
   ]
  },
  {
   "cell_type": "markdown",
   "metadata": {},
   "source": [
    "**Yes,because it has greater mass with lower density.**"
   ]
  },
  {
   "cell_type": "markdown",
   "metadata": {},
   "source": [
    "**(5)** Please briefly summarize you first actions when you start analyzing the data?"
   ]
  },
  {
   "cell_type": "markdown",
   "metadata": {},
   "source": [
    "**I would determine which datas and how i should use.**"
   ]
  }
 ],
 "metadata": {
  "kernelspec": {
   "display_name": "Python 3",
   "language": "python",
   "name": "python3"
  },
  "language_info": {
   "codemirror_mode": {
    "name": "ipython",
    "version": 3
   },
   "file_extension": ".py",
   "mimetype": "text/x-python",
   "name": "python",
   "nbconvert_exporter": "python",
   "pygments_lexer": "ipython3",
   "version": "3.8.3"
  }
 },
 "nbformat": 4,
 "nbformat_minor": 4
}
