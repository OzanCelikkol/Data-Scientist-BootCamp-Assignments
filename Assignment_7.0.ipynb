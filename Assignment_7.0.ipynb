{
 "cells": [
  {
   "cell_type": "markdown",
   "metadata": {},
   "source": [
    "# <font color=blue>Assignments for \"Classification\"</font>"
   ]
  },
  {
   "cell_type": "markdown",
   "metadata": {},
   "source": [
    "# Determine whether the following examples are classification problems or regression problems:\n",
    "1- Given the size of the house, estimating the price of it,\n",
    "<Br>\n",
    "2- From the clothes of those who come to see the house, to conclude who has a high or low probability of buying the house,\n",
    "<Br>\n",
    "3- Using parameters such as location and date, calculate the probability of rain,\n",
    "<Br>\n",
    "4- Estimating a one's salary using parameters such as education and experience,\n",
    "<Br>\n",
    "5- Estimation one's age,\n",
    "<Br>\n",
    "6- Estimation one's income,\n",
    "<Br>\n",
    "7- Estimate the direction of price of any stock."
   ]
  },
  {
   "cell_type": "markdown",
   "metadata": {},
   "source": [
    "***Answer***\n",
    "<Br>\n",
    "1-Regression\n",
    "<Br>\n",
    "2-Classification\n",
    "<Br>\n",
    "3-Classification\n",
    "<Br>\n",
    "4-Regression\n",
    "<Br>\n",
    "5-Regression\n",
    "<Br>\n",
    "6-Regression\n",
    "<Br>\n",
    "7-Classification"
   ]
  }
 ],
 "metadata": {
  "kernelspec": {
   "display_name": "Python 3",
   "language": "python",
   "name": "python3"
  },
  "language_info": {
   "codemirror_mode": {
    "name": "ipython",
    "version": 3
   },
   "file_extension": ".py",
   "mimetype": "text/x-python",
   "name": "python",
   "nbconvert_exporter": "python",
   "pygments_lexer": "ipython3",
   "version": "3.8.3"
  },
  "latex_envs": {
   "LaTeX_envs_menu_present": true,
   "autoclose": false,
   "autocomplete": true,
   "bibliofile": "biblio.bib",
   "cite_by": "apalike",
   "current_citInitial": 1,
   "eqLabelWithNumbers": true,
   "eqNumInitial": 1,
   "hotkeys": {
    "equation": "Ctrl-E",
    "itemize": "Ctrl-I"
   },
   "labels_anchors": false,
   "latex_user_defs": false,
   "report_style_numbering": false,
   "user_envs_cfg": false
  },
  "varInspector": {
   "cols": {
    "lenName": 16,
    "lenType": 16,
    "lenVar": 40
   },
   "kernels_config": {
    "python": {
     "delete_cmd_postfix": "",
     "delete_cmd_prefix": "del ",
     "library": "var_list.py",
     "varRefreshCmd": "print(var_dic_list())"
    },
    "r": {
     "delete_cmd_postfix": ") ",
     "delete_cmd_prefix": "rm(",
     "library": "var_list.r",
     "varRefreshCmd": "cat(var_dic_list()) "
    }
   },
   "types_to_exclude": [
    "module",
    "function",
    "builtin_function_or_method",
    "instance",
    "_Feature"
   ],
   "window_display": false
  }
 },
 "nbformat": 4,
 "nbformat_minor": 4
}
