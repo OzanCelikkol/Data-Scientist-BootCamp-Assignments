{
 "cells": [
  {
   "cell_type": "code",
   "execution_count": 6,
   "metadata": {},
   "outputs": [
    {
     "name": "stdout",
     "output_type": "stream",
     "text": [
      "The initial list is:  [34, 56, 76, 45, 2, 12, 67, 98, 37, 54, 66]\n",
      "The sorted lis is:  [2, 12, 34, 37, 45, 54, 56, 66, 67, 76, 98]\n",
      "The highest two numbers in the list are: 76 and 98\n",
      "The lowest two numbers in the list are: 2 and 12\n",
      "And sum of those highest and lowest number we printed above is: 188\n"
     ]
    }
   ],
   "source": [
    "myList = [34, 56, 76, 45, 2, 12, 67, 98, 37, 54, 66]\n",
    "print(\"The initial list is: \",myList)\n",
    "myList = sorted(myList)\n",
    "print(\"The sorted lis is: \",myList)\n",
    "print(\"The highest two numbers in the list are: {} and {}\".format(myList[-2],myList[-1]))\n",
    "print(\"The lowest two numbers in the list are: {} and {}\".format(myList[0],myList[1]))\n",
    "print(\"And sum of those highest and lowest number we printed above is: {}\".format(myList[0]+myList[1]+myList[-2]+myList[-1]))"
   ]
  },
  {
   "cell_type": "code",
   "execution_count": 14,
   "metadata": {},
   "outputs": [
    {
     "name": "stdout",
     "output_type": "stream",
     "text": [
      "Please enter name of the student whose grade you want to see: ali\n",
      "You might typed wrong please check the name you entered and please try again: James\n",
      "The grade of the student you entered is: 86\n"
     ]
    }
   ],
   "source": [
    "names = [\"David\", \"Michael\", \"John\", \"James\", \"Greg\", \"Mark\", \"William\", \"Richard\", \"Thomas\", \"Steven\", \n",
    "          \"Mary\", \"Susan\", \"Maria\", \"Karen\", \"Lisa\", \"Linda\", \"Donna\", \"Patricia\", \"Debra\"]\n",
    "scores = [99, 87, 78, 86, 68, 94, 76, 97, 56, 98, 76, 87, 79, 90, 73, 93, 82, 69, 97, 98]\n",
    "name = input(\"Please enter name of the student whose grade you want to see: \")\n",
    "while (name not in names):\n",
    "    name = input(\"You might typed wrong please check the name you entered and please try again: \")\n",
    "print(\"The grade of the student you entered is: {}\".format(scores[names.index(name)]))"
   ]
  },
  {
   "cell_type": "code",
   "execution_count": 17,
   "metadata": {},
   "outputs": [
    {
     "name": "stdout",
     "output_type": "stream",
     "text": [
      "Maximum grade in the list is: 99\n",
      "The nummber of the student who got maximum grade is: 1\n"
     ]
    }
   ],
   "source": [
    "names = [\"David\", \"Michael\", \"John\", \"James\", \"Greg\", \"Mark\", \"William\", \"Richard\", \"Thomas\", \"Steven\", \n",
    "          \"Mary\", \"Susan\", \"Maria\", \"Karen\", \"Lisa\", \"Linda\", \"Donna\", \"Patricia\", \"Debra\"]\n",
    "scores = [99, 87, 78, 86, 68, 94, 76, 97, 56, 98, 76, 87, 79, 90, 73, 93, 82, 69, 97, 98]\n",
    "print(\"Maximum grade in the list is: {}\".format(max(scores)))\n",
    "print(\"The nummber of the student who got maximum grade is: {}\".format(scores.count(max(scores))))"
   ]
  },
  {
   "cell_type": "code",
   "execution_count": 22,
   "metadata": {},
   "outputs": [
    {
     "name": "stdout",
     "output_type": "stream",
     "text": [
      "[['January', 31], ['February', 28], ['March', 31], ['April', 30], ['May', 31], ['June', 30], ['July', 31], ['August', 31], ['September', 30], ['October', 31], ['November', 30], ['December', 31]]\n",
      "spring: [['March', 31], ['April', 30], ['May', 31]] \n",
      " summer: [['June', 30], ['July', 31], ['August', 31]] \n",
      " autumn: [['September', 30], ['October', 31], ['November', 30]] \n",
      " winter: [['December', 31], ['January', 31], ['February', 28]]\n",
      "Finally an interesting fact! Summer season lasts 92 days.\n"
     ]
    }
   ],
   "source": [
    "daysOfMonths = [['January',31],['February',28],['March',31],['April',30],['May',31],['June',30],['July',31],['August',31],\n",
    "                ['September',30],['October',31],['November',30],['December',31]]\n",
    "print(daysOfMonths)\n",
    "spring = [daysOfMonths[2],daysOfMonths[3],daysOfMonths[4]]\n",
    "summer = [daysOfMonths[5],daysOfMonths[6],daysOfMonths[7]]\n",
    "autumn = [daysOfMonths[8],daysOfMonths[9],daysOfMonths[10]]\n",
    "winter = [daysOfMonths[11],daysOfMonths[0],daysOfMonths[1]]\n",
    "print(\"spring:\",spring,\"\\n\",\"summer:\",summer,\"\\n\",\"autumn:\",autumn,\"\\n\",\"winter:\",winter)\n",
    "print(\"Finally an interesting fact! Summer season lasts {} days.\".format(summer[0][1]+summer[1][1]+summer[2][1]))"
   ]
  },
  {
   "cell_type": "code",
   "execution_count": null,
   "metadata": {},
   "outputs": [],
   "source": []
  }
 ],
 "metadata": {
  "kernelspec": {
   "display_name": "Python 3",
   "language": "python",
   "name": "python3"
  },
  "language_info": {
   "codemirror_mode": {
    "name": "ipython",
    "version": 3
   },
   "file_extension": ".py",
   "mimetype": "text/x-python",
   "name": "python",
   "nbconvert_exporter": "python",
   "pygments_lexer": "ipython3",
   "version": "3.8.3"
  }
 },
 "nbformat": 4,
 "nbformat_minor": 4
}
